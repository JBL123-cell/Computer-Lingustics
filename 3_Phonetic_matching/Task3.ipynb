{
 "cells": [
  {
   "cell_type": "code",
   "execution_count": 16,
   "metadata": {},
   "outputs": [],
   "source": [
    "import re\n",
    "import json\n",
    "import string\n",
    "with open('galaxy.json', encoding='utf-8') as f:\n",
    "    data = json.load(f)"
   ]
  },
  {
   "cell_type": "code",
   "execution_count": 17,
   "metadata": {},
   "outputs": [],
   "source": [
    "import nltk\n",
    "from nltk.tokenize import word_tokenize"
   ]
  },
  {
   "cell_type": "code",
   "execution_count": 18,
   "metadata": {},
   "outputs": [
    {
     "name": "stderr",
     "output_type": "stream",
     "text": [
      "[nltk_data] Downloading package stopwords to\n",
      "[nltk_data]     C:\\Users\\redic\\AppData\\Roaming\\nltk_data...\n",
      "[nltk_data]   Package stopwords is already up-to-date!\n",
      "[nltk_data] Downloading package punkt to\n",
      "[nltk_data]     C:\\Users\\redic\\AppData\\Roaming\\nltk_data...\n",
      "[nltk_data]   Package punkt is already up-to-date!\n"
     ]
    }
   ],
   "source": [
    "nltk.download('stopwords')\n",
    "nltk.download('punkt')\n",
    "punct = string.punctuation + \"—\" + \"«\" + \"»\""
   ]
  },
  {
   "cell_type": "code",
   "execution_count": 19,
   "metadata": {},
   "outputs": [],
   "source": [
    "from nltk.corpus import stopwords\n",
    "stopwords_list = stopwords.words(\"russian\")"
   ]
  },
  {
   "cell_type": "markdown",
   "metadata": {},
   "source": [
    "Очищстим текст от пунктуации, чисел и стоп-слов, приведем все слова к нижнему регистру"
   ]
  },
  {
   "cell_type": "code",
   "execution_count": 20,
   "metadata": {},
   "outputs": [],
   "source": [
    "for i in range(len(data)):\n",
    "    data[str(i)]['text'] = re.sub(r'[0-9]+', ' ', data[str(i)]['text'])\n",
    "    data[str(i)]['text'] = re.sub(r\"\\b([а-яА-Я]\\.)\",' ', data[str(i)]['text'])\n",
    "    tokens = word_tokenize(data[str(i)]['text'])    \n",
    "    tokens = [token.lower() for token in tokens if token not in punct]\n",
    "    data[str(i)]['text'] = [word for word in tokens if word not in stopwords_list]"
   ]
  },
  {
   "cell_type": "markdown",
   "metadata": {},
   "source": [
    "Создаем новый  словарь, а также записываем его в новый файл json"
   ]
  },
  {
   "cell_type": "code",
   "execution_count": 21,
   "metadata": {},
   "outputs": [],
   "source": [
    "lst = []\n",
    "for i in range(len(data)):\n",
    "    lst.append(data[str(i)]['text'])"
   ]
  },
  {
   "cell_type": "code",
   "execution_count": 22,
   "metadata": {},
   "outputs": [],
   "source": [
    "data_new = {}\n",
    "for i in range(len(lst)):\n",
    "    data_new[str(i)] = {'words': lst[i]}"
   ]
  },
  {
   "cell_type": "code",
   "execution_count": 23,
   "metadata": {},
   "outputs": [],
   "source": [
    "with open('fl_e.json', 'w', encoding='utf-8') as file:\n",
    "    json.dump(data_new, file, indent=4, ensure_ascii=False)"
   ]
  },
  {
   "cell_type": "markdown",
   "metadata": {},
   "source": [
    "Функция"
   ]
  },
  {
   "cell_type": "code",
   "execution_count": 24,
   "metadata": {},
   "outputs": [],
   "source": [
    "import jellyfish\n",
    "import numpy as np"
   ]
  },
  {
   "cell_type": "code",
   "execution_count": 25,
   "metadata": {},
   "outputs": [],
   "source": [
    "def word_jel(word):\n",
    "    ids = []\n",
    "    for i in range(len(data_new)):\n",
    "        if word in data_new[str(i)]['words']:\n",
    "            ids.append(int(i)) \n",
    "    if len(ids) != 0:\n",
    "        return ids\n",
    "    for i in range(len(data_new)):\n",
    "        if word not in data_new[str(i)]['words']:\n",
    "            for w in data_new[str(i)]['words']:\n",
    "                ids.append(jellyfish.levenshtein_distance(word, w))\n",
    "    x = min(int(s) for s in ids)\n",
    "    ids.clear()\n",
    "    for i in range(len(data_new)):\n",
    "        for w in data_new[str(i)]['words']:\n",
    "            if jellyfish.levenshtein_distance(word, w) == x:\n",
    "                    ids.append(w) \n",
    "    uids = np.unique(ids)\n",
    "    return uids"
   ]
  },
  {
   "cell_type": "code",
   "execution_count": 26,
   "metadata": {},
   "outputs": [
    {
     "data": {
      "text/plain": [
       "array(['крест', 'рис', 'рост', 'сист', 'эрнст', 'юри'], dtype='<U5')"
      ]
     },
     "execution_count": 26,
     "metadata": {},
     "output_type": "execute_result"
    }
   ],
   "source": [
    "word_jel('юрист')"
   ]
  },
  {
   "cell_type": "markdown",
   "metadata": {},
   "source": [
    "Тексты были взяты из Википедии, поэтому предположительно опечаток нет. Попробуем проверить."
   ]
  },
  {
   "cell_type": "code",
   "execution_count": 27,
   "metadata": {},
   "outputs": [],
   "source": [
    "def check_spelling(text):\n",
    "    domain = \"https://speller.yandex.net/services/spellservice.json\"\n",
    "    words = text.split()\n",
    "    if len(words) == 1:\n",
    "        request = requests.get(domain + \"/checkText?text=\" + words[0])\n",
    "        if requests:\n",
    "            if not request.json():\n",
    "                return None\n",
    "            else:\n",
    "                return request.json()[0][\"word\"], request.json()[0][\"s\"]\n",
    "        else:\n",
    "            return None\n",
    "    elif len(words) > 1:\n",
    "        words = \"+\".join(words)\n",
    "        request = requests.get(domain + \"/checkText?text=\" + words)\n",
    "        if requests:\n",
    "            if not request.json():\n",
    "                words = words.split(\"+\")\n",
    "                return None\n",
    "            else:\n",
    "                response = [(i[\"word\"], i[\"s\"]) for i in request.json()]\n",
    "                return response\n",
    "        else:\n",
    "            return None\n",
    "    return None\n"
   ]
  },
  {
   "cell_type": "code",
   "execution_count": 28,
   "metadata": {},
   "outputs": [],
   "source": [
    "import requests\n",
    "for i in range(len(data_new)):\n",
    "    lst_2 =  data_new[str(i)]['words']\n",
    "    for word in lst_2:\n",
    "        stri = ''\n",
    "        stri += word + ' '\n",
    "        check = check_spelling(stri)\n",
    "        if check_spelling(stri) is not None:\n",
    "            for i in range(len(check[1])):\n",
    "                if len(re.findall(r'[^а-яА-Я]', check[1][i] )) == 0:\n",
    "                    new_word = check[1][i]\n",
    "                    break\n",
    "                else:\n",
    "                    continue\n",
    "            if stri in data_new[str(i)]['words']:\n",
    "                stri in data_new[str(i)]['words'] == new_word"
   ]
  },
  {
   "cell_type": "code",
   "execution_count": 30,
   "metadata": {},
   "outputs": [],
   "source": [
    "lst_new = []\n",
    "for i in range(len(data_new)):\n",
    "    lst_new.append(data_new[str(i)]['words'])"
   ]
  },
  {
   "cell_type": "code",
   "execution_count": 31,
   "metadata": {},
   "outputs": [],
   "source": [
    "import json\n",
    "data_ag = {}\n",
    "for i in range(len(lst_new)):\n",
    "    data_ag[i] = {'words': lst_new[i]}"
   ]
  },
  {
   "cell_type": "code",
   "execution_count": 32,
   "metadata": {},
   "outputs": [],
   "source": [
    "with open('galaxy_words.json', 'w', encoding='utf-8') as file:\n",
    "    json.dump(data_ag, file, indent=4, ensure_ascii=False)"
   ]
  }
 ],
 "metadata": {
  "kernelspec": {
   "display_name": "Python 3",
   "language": "python",
   "name": "python3"
  },
  "language_info": {
   "codemirror_mode": {
    "name": "ipython",
    "version": 3
   },
   "file_extension": ".py",
   "mimetype": "text/x-python",
   "name": "python",
   "nbconvert_exporter": "python",
   "pygments_lexer": "ipython3",
   "version": "3.8.5"
  }
 },
 "nbformat": 4,
 "nbformat_minor": 4
}
