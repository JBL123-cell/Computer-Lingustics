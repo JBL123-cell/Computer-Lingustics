{
 "cells": [
  {
   "cell_type": "code",
   "execution_count": 214,
   "metadata": {},
   "outputs": [],
   "source": [
    "from natasha import NewsNERTagger\n",
    "from natasha import MorphVocab, NewsEmbedding, NewsMorphTagger\n",
    "from natasha import Doc, Segmenter\n",
    "import json\n",
    "import pandas as pd\n",
    "import re\n",
    "import pymorphy2\n",
    "analyzer = pymorphy2.MorphAnalyzer()\n",
    "embedding = NewsEmbedding()\n",
    "segmenter = Segmenter()\n",
    "morph_tagger = NewsMorphTagger(embedding)\n",
    "morph_vocab = MorphVocab()\n",
    "ner_tagger = NewsNERTagger(embedding)"
   ]
  },
  {
   "cell_type": "code",
   "execution_count": 215,
   "metadata": {},
   "outputs": [],
   "source": [
    "df = pd.read_csv('news_new.csv', encoding='utf-8')"
   ]
  },
  {
   "cell_type": "markdown",
   "metadata": {},
   "source": [
    "Возьмём датасет содержащий статьи и их названия"
   ]
  },
  {
   "cell_type": "code",
   "execution_count": 216,
   "metadata": {},
   "outputs": [
    {
     "data": {
      "text/html": [
       "<div>\n",
       "<style scoped>\n",
       "    .dataframe tbody tr th:only-of-type {\n",
       "        vertical-align: middle;\n",
       "    }\n",
       "\n",
       "    .dataframe tbody tr th {\n",
       "        vertical-align: top;\n",
       "    }\n",
       "\n",
       "    .dataframe thead th {\n",
       "        text-align: right;\n",
       "    }\n",
       "</style>\n",
       "<table border=\"1\" class=\"dataframe\">\n",
       "  <thead>\n",
       "    <tr style=\"text-align: right;\">\n",
       "      <th></th>\n",
       "      <th>Unnamed: 0</th>\n",
       "      <th>title</th>\n",
       "      <th>text</th>\n",
       "    </tr>\n",
       "  </thead>\n",
       "  <tbody>\n",
       "    <tr>\n",
       "      <th>16496</th>\n",
       "      <td>16496</td>\n",
       "      <td>Миссия из Италии, Германии и Греции пролетит н...</td>\n",
       "      <td>МОСКВА, 9 мар — РИА Новости.  Совместная мисси...</td>\n",
       "    </tr>\n",
       "    <tr>\n",
       "      <th>12406</th>\n",
       "      <td>12406</td>\n",
       "      <td>Почти две тысячи подмосковных медиков заразили...</td>\n",
       "      <td>МОСКВА, 18 мая — РИА Новости.  Почти две тысяч...</td>\n",
       "    </tr>\n",
       "    <tr>\n",
       "      <th>7868</th>\n",
       "      <td>7868</td>\n",
       "      <td>В Тбилиси задержали сына экс-премьера Грузии</td>\n",
       "      <td>ТБИЛИСИ, 2 авг - РИА Новости.  Министерство вн...</td>\n",
       "    </tr>\n",
       "    <tr>\n",
       "      <th>19809</th>\n",
       "      <td>19809</td>\n",
       "      <td>Исследование показало, что четверть автомобили...</td>\n",
       "      <td>МОСКВА, 13 янв - РИА Новости/Прайм.  Почти 20%...</td>\n",
       "    </tr>\n",
       "    <tr>\n",
       "      <th>20276</th>\n",
       "      <td>20276</td>\n",
       "      <td>Тэрон Эджертон завоевал \"Золотой глобус\" за лу...</td>\n",
       "      <td>ВАШИНГТОН, 6 янв – РИА Новости.  Актер Тэрон Э...</td>\n",
       "    </tr>\n",
       "    <tr>\n",
       "      <th>8151</th>\n",
       "      <td>8151</td>\n",
       "      <td>Украина пожаловалась генсеку ООН на морской па...</td>\n",
       "      <td>МОСКВА, 29 июл — РИА Новости.   Украина  обрат...</td>\n",
       "    </tr>\n",
       "  </tbody>\n",
       "</table>\n",
       "</div>"
      ],
      "text/plain": [
       "       Unnamed: 0                                              title  \\\n",
       "16496       16496  Миссия из Италии, Германии и Греции пролетит н...   \n",
       "12406       12406  Почти две тысячи подмосковных медиков заразили...   \n",
       "7868         7868       В Тбилиси задержали сына экс-премьера Грузии   \n",
       "19809       19809  Исследование показало, что четверть автомобили...   \n",
       "20276       20276  Тэрон Эджертон завоевал \"Золотой глобус\" за лу...   \n",
       "8151         8151  Украина пожаловалась генсеку ООН на морской па...   \n",
       "\n",
       "                                                    text  \n",
       "16496  МОСКВА, 9 мар — РИА Новости.  Совместная мисси...  \n",
       "12406  МОСКВА, 18 мая — РИА Новости.  Почти две тысяч...  \n",
       "7868   ТБИЛИСИ, 2 авг - РИА Новости.  Министерство вн...  \n",
       "19809  МОСКВА, 13 янв - РИА Новости/Прайм.  Почти 20%...  \n",
       "20276  ВАШИНГТОН, 6 янв – РИА Новости.  Актер Тэрон Э...  \n",
       "8151   МОСКВА, 29 июл — РИА Новости.   Украина  обрат...  "
      ]
     },
     "execution_count": 216,
     "metadata": {},
     "output_type": "execute_result"
    }
   ],
   "source": [
    "df.sample(6)"
   ]
  },
  {
   "cell_type": "code",
   "execution_count": 217,
   "metadata": {},
   "outputs": [],
   "source": [
    "def get_ner(transcript):\n",
    "    script = Doc(re.sub(r'\\((.*?)\\)', \"\", transcript))\n",
    "    script.segment(segmenter)\n",
    "    script.tag_morph(morph_tagger)\n",
    "    for token in script.tokens:\n",
    "        token.lemmatize(morph_vocab)\n",
    "    script.tag_ner(ner_tagger)\n",
    "    for span in script.spans:\n",
    "        span.normalize(morph_vocab)\n",
    "    named_ents = [(i.text, i.type, i.normal) for i in script.spans]\n",
    "    normed_ents = []\n",
    "    for word, tag, norm in named_ents:\n",
    "        if len(word.split()) == 1 and tag == \"LOC\":\n",
    "            for gram in range(len(analyzer.parse(word))):\n",
    "                if \"Geox\" in analyzer.parse(word)[gram].tag:\n",
    "                    normed_ents.append((analyzer.parse(word)[gram].normal_form))\n",
    "                    break\n",
    "                elif gram == len(analyzer.parse(word)) - 1:\n",
    "                    normed_ents.append((norm.lower().strip(\".,!?;-\")))\n",
    "        else:\n",
    "            normed_ents.append((norm.lower().strip(\".,!?;-\")))\n",
    "    return sorted(normed_ents)"
   ]
  },
  {
   "cell_type": "code",
   "execution_count": 220,
   "metadata": {},
   "outputs": [],
   "source": [
    "df[\"named_entities\"] = df.apply(lambda df: get_ner(df[\"text\"]), axis=1)"
   ]
  },
  {
   "cell_type": "code",
   "execution_count": 222,
   "metadata": {},
   "outputs": [
    {
     "data": {
      "text/html": [
       "<div>\n",
       "<style scoped>\n",
       "    .dataframe tbody tr th:only-of-type {\n",
       "        vertical-align: middle;\n",
       "    }\n",
       "\n",
       "    .dataframe tbody tr th {\n",
       "        vertical-align: top;\n",
       "    }\n",
       "\n",
       "    .dataframe thead th {\n",
       "        text-align: right;\n",
       "    }\n",
       "</style>\n",
       "<table border=\"1\" class=\"dataframe\">\n",
       "  <thead>\n",
       "    <tr style=\"text-align: right;\">\n",
       "      <th></th>\n",
       "      <th>Unnamed: 0</th>\n",
       "      <th>title</th>\n",
       "      <th>text</th>\n",
       "      <th>named_entities</th>\n",
       "    </tr>\n",
       "  </thead>\n",
       "  <tbody>\n",
       "    <tr>\n",
       "      <th>5234</th>\n",
       "      <td>5234</td>\n",
       "      <td>Собянин пообещал к концу недели развернуть сис...</td>\n",
       "      <td>Власти Москвы планируют к концу недели полност...</td>\n",
       "      <td>[интерфакс, москва, москва, москва, москва, мо...</td>\n",
       "    </tr>\n",
       "    <tr>\n",
       "      <th>14608</th>\n",
       "      <td>14608</td>\n",
       "      <td>НАПКА не прогнозирует массовых дефолтов из-за ...</td>\n",
       "      <td>МОСКВА, 11 апр - РИА Новости.  Число должников...</td>\n",
       "      <td>[мехтиев, москва, напка, национальная ассоциац...</td>\n",
       "    </tr>\n",
       "    <tr>\n",
       "      <th>10175</th>\n",
       "      <td>10175</td>\n",
       "      <td>В США призвали СБ ООН продлить оружейное эмбар...</td>\n",
       "      <td>ООН, 25 июн - РИА Новости.  Спецпредставитель ...</td>\n",
       "      <td>[антониу гутерреш, брайан хук, евросоюз, иран,...</td>\n",
       "    </tr>\n",
       "    <tr>\n",
       "      <th>2154</th>\n",
       "      <td>2154</td>\n",
       "      <td>Подсчитаны потери России от коронавируса</td>\n",
       "      <td>Еврокомиссия  в собственном  докладе  подсчита...</td>\n",
       "      <td>[еврокомиссия, еврокомиссия, россия, россия, р...</td>\n",
       "    </tr>\n",
       "    <tr>\n",
       "      <th>19147</th>\n",
       "      <td>19147</td>\n",
       "      <td>Трамп обсудил с Джонсоном сотрудничество в ряд...</td>\n",
       "      <td>ВАШИНГТОН, 25 янв - РИА Новости.  Президент СШ...</td>\n",
       "      <td>[белый дом, борис джонсон, борис джонсон, ваши...</td>\n",
       "    </tr>\n",
       "    <tr>\n",
       "      <th>20148</th>\n",
       "      <td>20148</td>\n",
       "      <td>СМИ: совещание у Трампа завершилось, министры ...</td>\n",
       "      <td>РИА НОВОСТИ Совещание у Трампа завершилось, ми...</td>\n",
       "      <td>[cnn, белый дом, риа новости, трамп]</td>\n",
       "    </tr>\n",
       "  </tbody>\n",
       "</table>\n",
       "</div>"
      ],
      "text/plain": [
       "       Unnamed: 0                                              title  \\\n",
       "5234         5234  Собянин пообещал к концу недели развернуть сис...   \n",
       "14608       14608  НАПКА не прогнозирует массовых дефолтов из-за ...   \n",
       "10175       10175  В США призвали СБ ООН продлить оружейное эмбар...   \n",
       "2154         2154           Подсчитаны потери России от коронавируса   \n",
       "19147       19147  Трамп обсудил с Джонсоном сотрудничество в ряд...   \n",
       "20148       20148  СМИ: совещание у Трампа завершилось, министры ...   \n",
       "\n",
       "                                                    text  \\\n",
       "5234   Власти Москвы планируют к концу недели полност...   \n",
       "14608  МОСКВА, 11 апр - РИА Новости.  Число должников...   \n",
       "10175  ООН, 25 июн - РИА Новости.  Спецпредставитель ...   \n",
       "2154   Еврокомиссия  в собственном  докладе  подсчита...   \n",
       "19147  ВАШИНГТОН, 25 янв - РИА Новости.  Президент СШ...   \n",
       "20148  РИА НОВОСТИ Совещание у Трампа завершилось, ми...   \n",
       "\n",
       "                                          named_entities  \n",
       "5234   [интерфакс, москва, москва, москва, москва, мо...  \n",
       "14608  [мехтиев, москва, напка, национальная ассоциац...  \n",
       "10175  [антониу гутерреш, брайан хук, евросоюз, иран,...  \n",
       "2154   [еврокомиссия, еврокомиссия, россия, россия, р...  \n",
       "19147  [белый дом, борис джонсон, борис джонсон, ваши...  \n",
       "20148               [cnn, белый дом, риа новости, трамп]  "
      ]
     },
     "execution_count": 222,
     "metadata": {},
     "output_type": "execute_result"
    }
   ],
   "source": [
    "df.sample(6)"
   ]
  },
  {
   "cell_type": "markdown",
   "metadata": {},
   "source": [
    "Посмотрим, сколько всего именованных сущностей в корпусе."
   ]
  },
  {
   "cell_type": "code",
   "execution_count": 224,
   "metadata": {},
   "outputs": [
    {
     "data": {
      "text/plain": [
       "(365336, 55811)"
      ]
     },
     "execution_count": 224,
     "metadata": {},
     "output_type": "execute_result"
    }
   ],
   "source": [
    "ner_voc = []\n",
    "for row in df.named_entities.tolist():\n",
    "    ner_voc.extend(row)\n",
    "len(ner_voc), len(set(ner_voc))"
   ]
  },
  {
   "cell_type": "code",
   "execution_count": 225,
   "metadata": {},
   "outputs": [],
   "source": [
    "vocabulary = sorted(set(ner_voc))\n",
    "corpus = ner_df.ner.apply(str).tolist()"
   ]
  },
  {
   "cell_type": "code",
   "execution_count": 226,
   "metadata": {},
   "outputs": [],
   "source": [
    "from sklearn.feature_extraction.text import CountVectorizer\n",
    "from sklearn.feature_extraction.text import TfidfTransformer\n",
    "from sklearn.pipeline import Pipeline\n",
    "from sklearn import metrics\n",
    "from sklearn.cluster import KMeans"
   ]
  },
  {
   "cell_type": "code",
   "execution_count": 241,
   "metadata": {},
   "outputs": [],
   "source": [
    "pipe = Pipeline([('count', CountVectorizer(vocabulary=vocabulary)),\n",
    "                 ('tfid', TfidfTransformer())]).fit(corpus)\n",
    "X = pipe.fit_transform(corpus)\n",
    "km = KMeans(n_clusters=30, init='k-means++', max_iter=600, \n",
    "            algorithm=\"full\", precompute_distances=True)"
   ]
  },
  {
   "cell_type": "code",
   "execution_count": 242,
   "metadata": {},
   "outputs": [
    {
     "name": "stderr",
     "output_type": "stream",
     "text": [
      "c:\\users\\redic\\appdata\\local\\programs\\python\\python38\\lib\\site-packages\\sklearn\\cluster\\_kmeans.py:786: FutureWarning: 'precompute_distances' was deprecated in version 0.23 and will be removed in 1.0 (renaming of 0.25). It has no effect\n",
      "  warnings.warn(\"'precompute_distances' was deprecated in version \"\n"
     ]
    },
    {
     "data": {
      "text/plain": [
       "KMeans(algorithm='full', max_iter=600, n_clusters=30, precompute_distances=True)"
      ]
     },
     "execution_count": 242,
     "metadata": {},
     "output_type": "execute_result"
    }
   ],
   "source": [
    "km.fit(X)"
   ]
  },
  {
   "cell_type": "code",
   "execution_count": 243,
   "metadata": {},
   "outputs": [
    {
     "name": "stdout",
     "output_type": "stream",
     "text": [
      "0.6286701937984022\n",
      "1.493350935978347\n"
     ]
    }
   ],
   "source": [
    "print(metrics.silhouette_score(X, km.labels_, sample_size=1000))\n",
    "print(metrics.davies_bouldin_score(X.toarray(), km.labels_))"
   ]
  },
  {
   "cell_type": "markdown",
   "metadata": {},
   "source": [
    "С увеличение количества кластеров силуэт больше стремится к 1 (а значит разбиение становится лучше)"
   ]
  },
  {
   "cell_type": "code",
   "execution_count": 244,
   "metadata": {},
   "outputs": [],
   "source": [
    "ner_df[\"label\"] = km.predict(X)"
   ]
  },
  {
   "cell_type": "code",
   "execution_count": 245,
   "metadata": {},
   "outputs": [
    {
     "data": {
      "text/plain": [
       "0     9280\n",
       "4     5771\n",
       "6      528\n",
       "1      425\n",
       "15     330\n",
       "20     255\n",
       "12     252\n",
       "9      214\n",
       "7      156\n",
       "2      147\n",
       "24     138\n",
       "11     132\n",
       "17     131\n",
       "21     127\n",
       "8      117\n",
       "18     117\n",
       "29      96\n",
       "16      92\n",
       "14      92\n",
       "3       90\n",
       "23      84\n",
       "25      79\n",
       "19      73\n",
       "5       56\n",
       "13      53\n",
       "27      44\n",
       "28      37\n",
       "22      29\n",
       "10      28\n",
       "26      24\n",
       "Name: label, dtype: int64"
      ]
     },
     "execution_count": 245,
     "metadata": {},
     "output_type": "execute_result"
    }
   ],
   "source": [
    "ner_df[\"label\"].value_counts()"
   ]
  },
  {
   "cell_type": "markdown",
   "metadata": {},
   "source": [
    "Так как в нулевом и четвертом кластере слишком много данных, то это может означать, что он собрал объекты, которые сложно куда-то определить."
   ]
  },
  {
   "cell_type": "code",
   "execution_count": 251,
   "metadata": {},
   "outputs": [
    {
     "data": {
      "text/html": [
       "<div>\n",
       "<style scoped>\n",
       "    .dataframe tbody tr th:only-of-type {\n",
       "        vertical-align: middle;\n",
       "    }\n",
       "\n",
       "    .dataframe tbody tr th {\n",
       "        vertical-align: top;\n",
       "    }\n",
       "\n",
       "    .dataframe thead th {\n",
       "        text-align: right;\n",
       "    }\n",
       "</style>\n",
       "<table border=\"1\" class=\"dataframe\">\n",
       "  <thead>\n",
       "    <tr style=\"text-align: right;\">\n",
       "      <th></th>\n",
       "      <th>text_num</th>\n",
       "      <th>ner</th>\n",
       "      <th>label</th>\n",
       "    </tr>\n",
       "  </thead>\n",
       "  <tbody>\n",
       "    <tr>\n",
       "      <th>14242</th>\n",
       "      <td>15956</td>\n",
       "      <td>[лондон, наталья копылова, риа новости]</td>\n",
       "      <td>5</td>\n",
       "    </tr>\n",
       "    <tr>\n",
       "      <th>12446</th>\n",
       "      <td>14135</td>\n",
       "      <td>[лондон, наталья копылова, риа новости]</td>\n",
       "      <td>5</td>\n",
       "    </tr>\n",
       "    <tr>\n",
       "      <th>9517</th>\n",
       "      <td>11169</td>\n",
       "      <td>[лондон, наталья копылова, риа новости]</td>\n",
       "      <td>5</td>\n",
       "    </tr>\n",
       "    <tr>\n",
       "      <th>17780</th>\n",
       "      <td>19564</td>\n",
       "      <td>[наталья дембинск, риа новости]</td>\n",
       "      <td>5</td>\n",
       "    </tr>\n",
       "    <tr>\n",
       "      <th>10687</th>\n",
       "      <td>12351</td>\n",
       "      <td>[лондон, наталья копылова, риа новости]</td>\n",
       "      <td>5</td>\n",
       "    </tr>\n",
       "    <tr>\n",
       "      <th>6375</th>\n",
       "      <td>7979</td>\n",
       "      <td>[наталья дембинска, риа новости]</td>\n",
       "      <td>5</td>\n",
       "    </tr>\n",
       "    <tr>\n",
       "      <th>16819</th>\n",
       "      <td>18587</td>\n",
       "      <td>[лондон, наталья копылова, риа новости]</td>\n",
       "      <td>5</td>\n",
       "    </tr>\n",
       "    <tr>\n",
       "      <th>18694</th>\n",
       "      <td>20493</td>\n",
       "      <td>[наталья дембинска, риа новости]</td>\n",
       "      <td>5</td>\n",
       "    </tr>\n",
       "  </tbody>\n",
       "</table>\n",
       "</div>"
      ],
      "text/plain": [
       "       text_num                                      ner  label\n",
       "14242     15956  [лондон, наталья копылова, риа новости]      5\n",
       "12446     14135  [лондон, наталья копылова, риа новости]      5\n",
       "9517      11169  [лондон, наталья копылова, риа новости]      5\n",
       "17780     19564          [наталья дембинск, риа новости]      5\n",
       "10687     12351  [лондон, наталья копылова, риа новости]      5\n",
       "6375       7979         [наталья дембинска, риа новости]      5\n",
       "16819     18587  [лондон, наталья копылова, риа новости]      5\n",
       "18694     20493         [наталья дембинска, риа новости]      5"
      ]
     },
     "execution_count": 251,
     "metadata": {},
     "output_type": "execute_result"
    }
   ],
   "source": [
    "ner_df.query(\"label == 5\").sample(8)"
   ]
  },
  {
   "cell_type": "code",
   "execution_count": 252,
   "metadata": {},
   "outputs": [
    {
     "data": {
      "text/html": [
       "<div>\n",
       "<style scoped>\n",
       "    .dataframe tbody tr th:only-of-type {\n",
       "        vertical-align: middle;\n",
       "    }\n",
       "\n",
       "    .dataframe tbody tr th {\n",
       "        vertical-align: top;\n",
       "    }\n",
       "\n",
       "    .dataframe thead th {\n",
       "        text-align: right;\n",
       "    }\n",
       "</style>\n",
       "<table border=\"1\" class=\"dataframe\">\n",
       "  <thead>\n",
       "    <tr style=\"text-align: right;\">\n",
       "      <th></th>\n",
       "      <th>text_num</th>\n",
       "      <th>ner</th>\n",
       "      <th>label</th>\n",
       "    </tr>\n",
       "  </thead>\n",
       "  <tbody>\n",
       "    <tr>\n",
       "      <th>18612</th>\n",
       "      <td>20408</td>\n",
       "      <td>[20408    каир, риа новости]</td>\n",
       "      <td>8</td>\n",
       "    </tr>\n",
       "    <tr>\n",
       "      <th>13109</th>\n",
       "      <td>14809</td>\n",
       "      <td>[14809    каир, риа новости]</td>\n",
       "      <td>8</td>\n",
       "    </tr>\n",
       "    <tr>\n",
       "      <th>14602</th>\n",
       "      <td>16321</td>\n",
       "      <td>[16321    каир, риа новости, сша]</td>\n",
       "      <td>8</td>\n",
       "    </tr>\n",
       "    <tr>\n",
       "      <th>17118</th>\n",
       "      <td>18889</td>\n",
       "      <td>[18889    каир, риа новости]</td>\n",
       "      <td>8</td>\n",
       "    </tr>\n",
       "    <tr>\n",
       "      <th>17214</th>\n",
       "      <td>18987</td>\n",
       "      <td>[18987    каир, риа новости]</td>\n",
       "      <td>8</td>\n",
       "    </tr>\n",
       "    <tr>\n",
       "      <th>15368</th>\n",
       "      <td>17102</td>\n",
       "      <td>[17102    каир, риа новости]</td>\n",
       "      <td>8</td>\n",
       "    </tr>\n",
       "    <tr>\n",
       "      <th>13332</th>\n",
       "      <td>15035</td>\n",
       "      <td>[15035    каир, риа новости]</td>\n",
       "      <td>8</td>\n",
       "    </tr>\n",
       "    <tr>\n",
       "      <th>7788</th>\n",
       "      <td>9413</td>\n",
       "      <td>[9413    каир, риа новости]</td>\n",
       "      <td>8</td>\n",
       "    </tr>\n",
       "  </tbody>\n",
       "</table>\n",
       "</div>"
      ],
      "text/plain": [
       "       text_num                                ner  label\n",
       "18612     20408       [20408    каир, риа новости]      8\n",
       "13109     14809       [14809    каир, риа новости]      8\n",
       "14602     16321  [16321    каир, риа новости, сша]      8\n",
       "17118     18889       [18889    каир, риа новости]      8\n",
       "17214     18987       [18987    каир, риа новости]      8\n",
       "15368     17102       [17102    каир, риа новости]      8\n",
       "13332     15035       [15035    каир, риа новости]      8\n",
       "7788       9413        [9413    каир, риа новости]      8"
      ]
     },
     "execution_count": 252,
     "metadata": {},
     "output_type": "execute_result"
    }
   ],
   "source": [
    "ner_df.query(\"label == 8\").sample(8)"
   ]
  },
  {
   "cell_type": "code",
   "execution_count": 253,
   "metadata": {},
   "outputs": [
    {
     "name": "stdout",
     "output_type": "stream",
     "text": [
      "Cluster 0: риа новости „агора джейк джейми джейкоб элорди джейкоб фрей джейкоб блейку джейкоб блейка джейкоб блейк\n",
      "Cluster 1: сша новости риа сенат россия иран росс китай япония газа\n",
      "Cluster 2: киев новости риа украина симферополь служба снбо львов польша совет\n",
      "Cluster 3: суд москва верховный басманный пресненский конституционный новости риа таганский россия\n",
      "Cluster 4: новости риа сергей берлин алексей михаил китай белград брюссель красноярск\n",
      "Cluster 5: наталья лондон новости риа госдума поклонская непряева штурм водянова дума\n",
      "Cluster 6: россия новости риа дмитрий министерство банк мид минфин цик мвд\n",
      "Cluster 7: оон новости риа россия совбез сша иран великобритания китай мид\n",
      "Cluster 8: каир новости риа египет алжир тунис ливийская мид эфиопия марга\n",
      "Cluster 9: пекин новости риа китай анна кнр ухань сша гонконг росси\n",
      "Cluster 10: youtube новости риа канал „агора джейк джейкоб элорди джейкоб фрей джейкоб блейку джейкоб блейка\n",
      "Cluster 11: владимир путин россия рф турция новости риа госдума медведев лукашенко\n",
      "Cluster 12: москва новости риа вашингтон метро грузия басманный фсб новая московская\n",
      "Cluster 13: турция тайип эрдоган россия новости риа сша протурецкие сирия нато\n",
      "Cluster 14: доха новости риа катар оаэ троицкая юлия йемен мид аравия\n",
      "Cluster 15: владивосток новости риа аэрофлот новосибирск виктор минздрав москва джейкоб блейка джейкоб\n",
      "Cluster 16: лондон табак мария денис новости риа хан стретем аксбридж великобритания\n",
      "Cluster 17: минск новости риа белоруссия мид омон свобода немиг val беларусь\n",
      "Cluster 18: петербург санкт новости риа суд приморский беглов москва александр са\n",
      "Cluster 19: южная корея новости риа токио „агора джейк салливан джейк джейк андреу джейк джилленхол\n",
      "Cluster 20: мехико новости риа мексика вена москва мид россия перу панама\n",
      "Cluster 21: белоруссия александр лукашенко россия министерство юрий новости риа соратница мвд\n",
      "Cluster 22: зеленский владимир украина „агора джейк джилленхол джейми джейкоб элорди джейкоб фрей джейкоб блейку джейкоб блейка\n",
      "Cluster 23: рф новости риа минфин мид минздрав министерство минюст оон минобороны\n",
      "Cluster 24: украина рада новости риа служба министерство порошенко петр нафтогаз мид\n",
      "Cluster 25: госдума новости риа комитет россия кпрф комиссия антон бор иванов\n",
      "Cluster 26: северная корея осетия ким новости риа каро ирландия европа мак\n",
      "Cluster 27: камчатский петропавловск риа новости „агора джейк андреу джейми джейкоб элорди джейкоб фрей джейкоб блейку\n",
      "Cluster 28: токио новости риа ксения япония южная рф сша россия джейкоб блейка\n",
      "Cluster 29: дональд трамп сша новости риа племянница сенат китай россия джейден смит\n"
     ]
    }
   ],
   "source": [
    "order_centroids = km.cluster_centers_.argsort()[:, ::-1]\n",
    "terms = pipe[0].get_feature_names()\n",
    "for i in range(30):\n",
    "    print(\"Cluster %d:\" % i, end='')\n",
    "    for ind in order_centroids[i, :10]:\n",
    "        print(' %s' % terms[ind], end='')\n",
    "    print()"
   ]
  },
  {
   "cell_type": "markdown",
   "metadata": {},
   "source": [
    "Наиболее частотные слова в кластере выглядят адекватно. По некоторым кластерам можно даже определить про какие события писали в новостных статьях. В целом тематика и направленность датасета (политика, международные отношения) здесь тоже показаны."
   ]
  }
 ],
 "metadata": {
  "kernelspec": {
   "display_name": "Python 3",
   "language": "python",
   "name": "python3"
  },
  "language_info": {
   "codemirror_mode": {
    "name": "ipython",
    "version": 3
   },
   "file_extension": ".py",
   "mimetype": "text/x-python",
   "name": "python",
   "nbconvert_exporter": "python",
   "pygments_lexer": "ipython3",
   "version": "3.8.5"
  }
 },
 "nbformat": 4,
 "nbformat_minor": 4
}
