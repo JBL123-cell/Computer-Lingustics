{
 "cells": [
  {
   "cell_type": "code",
   "execution_count": 338,
   "metadata": {},
   "outputs": [],
   "source": [
    "import string\n",
    "import re"
   ]
  },
  {
   "cell_type": "code",
   "execution_count": 339,
   "metadata": {},
   "outputs": [],
   "source": [
    "test_str = 'Главной особенностью Википедии является то, что создавать и редактировать статьи в ней может любой пользователь Интернета. Все вносимые такими добровольцами изменения незамедлительно становятся доступными для просмотра всем посетителям сайта. '"
   ]
  },
  {
   "cell_type": "markdown",
   "metadata": {},
   "source": [
    "1.Напишите регулярное выражение, которое возвращает список первых двух букв каждого слова строки. Обратите внимание на работу с дефисом."
   ]
  },
  {
   "cell_type": "code",
   "execution_count": 340,
   "metadata": {},
   "outputs": [
    {
     "data": {
      "text/plain": [
       "['Гл',\n",
       " 'ав',\n",
       " 'но',\n",
       " 'ос',\n",
       " 'об',\n",
       " 'ен',\n",
       " 'но',\n",
       " 'ст',\n",
       " 'ью',\n",
       " 'Ви',\n",
       " 'ки',\n",
       " 'пе',\n",
       " 'ди',\n",
       " 'яв',\n",
       " 'ля',\n",
       " 'ет',\n",
       " 'ся',\n",
       " 'то',\n",
       " 'чт',\n",
       " 'со',\n",
       " 'зд',\n",
       " 'ав',\n",
       " 'ат',\n",
       " 'ре',\n",
       " 'да',\n",
       " 'кт',\n",
       " 'ир',\n",
       " 'ов',\n",
       " 'ат',\n",
       " 'ст',\n",
       " 'ат',\n",
       " 'ьи',\n",
       " 'не',\n",
       " 'мо',\n",
       " 'же',\n",
       " 'лю',\n",
       " 'бо',\n",
       " 'по',\n",
       " 'ль',\n",
       " 'зо',\n",
       " 'ва',\n",
       " 'те',\n",
       " 'ль',\n",
       " 'Ин',\n",
       " 'те',\n",
       " 'рн',\n",
       " 'ет',\n",
       " 'Вс',\n",
       " 'вн',\n",
       " 'ос',\n",
       " 'им',\n",
       " 'ые',\n",
       " 'та',\n",
       " 'ки',\n",
       " 'ми',\n",
       " 'до',\n",
       " 'бр',\n",
       " 'ов',\n",
       " 'ол',\n",
       " 'ьц',\n",
       " 'ам',\n",
       " 'из',\n",
       " 'ме',\n",
       " 'не',\n",
       " 'ни',\n",
       " 'не',\n",
       " 'за',\n",
       " 'ме',\n",
       " 'дл',\n",
       " 'ит',\n",
       " 'ел',\n",
       " 'ьн',\n",
       " 'ст',\n",
       " 'ан',\n",
       " 'ов',\n",
       " 'ят',\n",
       " 'ся',\n",
       " 'до',\n",
       " 'ст',\n",
       " 'уп',\n",
       " 'ны',\n",
       " 'ми',\n",
       " 'дл',\n",
       " 'пр',\n",
       " 'ос',\n",
       " 'мо',\n",
       " 'тр',\n",
       " 'вс',\n",
       " 'ем',\n",
       " 'по',\n",
       " 'се',\n",
       " 'ти',\n",
       " 'те',\n",
       " 'ля',\n",
       " 'са',\n",
       " 'йт']"
      ]
     },
     "execution_count": 340,
     "metadata": {},
     "output_type": "execute_result"
    }
   ],
   "source": [
    "lett = re.findall(r'\\w\\w', test_str)\n",
    "lett"
   ]
  },
  {
   "cell_type": "markdown",
   "metadata": {},
   "source": [
    "2. Напишите регулярное выражение, которое выбирает из строки все слова, в которых строго больше 3 символов.\n"
   ]
  },
  {
   "cell_type": "code",
   "execution_count": 341,
   "metadata": {},
   "outputs": [
    {
     "data": {
      "text/plain": [
       "['Главной',\n",
       " 'особенностью',\n",
       " 'Википедии',\n",
       " 'является',\n",
       " 'создавать',\n",
       " 'редактировать',\n",
       " 'статьи',\n",
       " 'может',\n",
       " 'любой',\n",
       " 'пользователь',\n",
       " 'Интернета',\n",
       " 'вносимые',\n",
       " 'такими',\n",
       " 'добровольцами',\n",
       " 'изменения',\n",
       " 'незамедлительно',\n",
       " 'становятся',\n",
       " 'доступными',\n",
       " 'просмотра',\n",
       " 'всем',\n",
       " 'посетителям',\n",
       " 'сайта']"
      ]
     },
     "execution_count": 341,
     "metadata": {},
     "output_type": "execute_result"
    }
   ],
   "source": [
    "match = re.findall(r'\\b\\w{4,}\\b', test_str)\n",
    "match"
   ]
  },
  {
   "cell_type": "markdown",
   "metadata": {},
   "source": [
    "3. Напишите регулярное выражение, которое заменит все подстроки, обозначающие время (только время, не даты), в строке на TBD."
   ]
  },
  {
   "cell_type": "code",
   "execution_count": 342,
   "metadata": {},
   "outputs": [],
   "source": [
    "test_str2 = 'Уроки начинаются в 08:20. Пробежка длится 01:23:15'"
   ]
  },
  {
   "cell_type": "code",
   "execution_count": 6,
   "metadata": {},
   "outputs": [
    {
     "data": {
      "text/plain": [
       "'Уроки начинаются в TBD. Пробежка длится TBD'"
      ]
     },
     "execution_count": 6,
     "metadata": {},
     "output_type": "execute_result"
    }
   ],
   "source": [
    "pattern = re.sub(r'((?:[01]\\d|2[0-3])\\:(?:[0-5]\\d)(?:\\:[0-5]\\d)?)', (\"TBD\"), test_str2)\n",
    "pattern"
   ]
  },
  {
   "cell_type": "markdown",
   "metadata": {},
   "source": [
    "4. Напишите регулярное выражение, которое заменяет произвольное количество пробельных символов внутри строки на один пробел.\n"
   ]
  },
  {
   "cell_type": "code",
   "execution_count": 7,
   "metadata": {},
   "outputs": [
    {
     "data": {
      "text/plain": [
       "'Они работают в обсерваториях, a также совмещают профессиональную занятость с преподавательской.'"
      ]
     },
     "execution_count": 7,
     "metadata": {},
     "output_type": "execute_result"
    }
   ],
   "source": [
    "test3_str = 'Они    работают в обсерваториях,     a  также совмещают  профессиональную занятость   с преподавательской.'\n",
    "rep = re.sub(r'\\s+', r' ', test3_str)\n",
    "rep"
   ]
  },
  {
   "cell_type": "markdown",
   "metadata": {},
   "source": [
    "5. Напишите регулярное выражение, которое удаляет идущие подряд повторы. Одно слово из группы должно остаться."
   ]
  },
  {
   "cell_type": "code",
   "execution_count": 8,
   "metadata": {},
   "outputs": [
    {
     "data": {
      "text/plain": [
       "'Кошка скребется, собачки гавкают'"
      ]
     },
     "execution_count": 8,
     "metadata": {},
     "output_type": "execute_result"
    }
   ],
   "source": [
    "test4_str = 'Кошка скребется скребется, собачки собачки гавкают'\n",
    "repeat = re.sub(r'\\b([^\\W\\d_]+)(\\s+\\1)+\\b', r'\\1', test4_str)\n",
    "repeat"
   ]
  },
  {
   "cell_type": "markdown",
   "metadata": {},
   "source": [
    "6. Напишите регулярное выражение, которое определяет, что подстрока является адресом электронной почты.\n"
   ]
  },
  {
   "cell_type": "code",
   "execution_count": 336,
   "metadata": {},
   "outputs": [
    {
     "name": "stdout",
     "output_type": "stream",
     "text": [
      "yes\n",
      "no\n",
      "no\n",
      "no\n"
     ]
    }
   ],
   "source": [
    "test5_str = ['qwe@mail.ru' , 'wer@@@yandex.ru' , '@mai.ru' , 'qwe@mail.ruuuuu']\n",
    "for e in test5_str:\n",
    "    if re.match(r'\\b[a-zA-Z0-9._%+-]+@[a-zA-Z0-9.-]+\\.[a-zA-Z]{2,4}\\b', e):\n",
    "        print('yes')\n",
    "    else:\n",
    "        print('no')"
   ]
  },
  {
   "cell_type": "markdown",
   "metadata": {},
   "source": [
    "7. Напишите регулярное выражение, которое возвращает список аббревиатур в строке.\n"
   ]
  },
  {
   "cell_type": "code",
   "execution_count": 10,
   "metadata": {},
   "outputs": [
    {
     "data": {
      "text/plain": [
       "['АГТУ', 'ГАДи', 'ДПС']"
      ]
     },
     "execution_count": 10,
     "metadata": {},
     "output_type": "execute_result"
    }
   ],
   "source": [
    "test6_str = 'АГТУ, ГАДи, ДПС, завод, кот, Даша '\n",
    "abb = re.findall(r'[А-Я]{2,}\\w*|[A-Я]{2,}[а-я]+', test6_str)\n",
    "abb"
   ]
  },
  {
   "cell_type": "markdown",
   "metadata": {},
   "source": [
    "8. Напишите регулярное выражение, которое разделяет текст на предложения."
   ]
  },
  {
   "cell_type": "code",
   "execution_count": 11,
   "metadata": {},
   "outputs": [
    {
     "data": {
      "text/plain": [
       "['Согласно жизнеописанию святого, Себастьян родился в г.Нарбонне в Галлии, получил образование и жил в Медиолане (Милане) и был начальником преторианской гвардии при императорах Диоклетиане и Максимиане',\n",
       " 'Он тайно исповедовал христианство, что обнаружилось, когда двое его друзей — братья Марк и Маркеллин — были осуждены на смерть за свою веру',\n",
       " 'Была ли вера',\n",
       " 'Была вера!']"
      ]
     },
     "execution_count": 11,
     "metadata": {},
     "output_type": "execute_result"
    }
   ],
   "source": [
    "test7_str = 'Согласно жизнеописанию святого, Себастьян родился в г.Нарбонне в Галлии, получил образование и жил в Медиолане (Милане) и был начальником преторианской гвардии при императорах Диоклетиане и Максимиане. Он тайно исповедовал христианство, что обнаружилось, когда двое его друзей — братья Марк и Маркеллин — были осуждены на смерть за свою веру. Была ли вера? Была вера!'\n",
    "sent = re.split(r'[.!?]\\s+', test7_str)\n",
    "sent"
   ]
  },
  {
   "cell_type": "markdown",
   "metadata": {},
   "source": [
    "9. Напишите регулярное выражение, которое определяет, что строка является номером\n",
    "российского мобильного телефона любого оператора."
   ]
  },
  {
   "cell_type": "code",
   "execution_count": 12,
   "metadata": {},
   "outputs": [
    {
     "name": "stdout",
     "output_type": "stream",
     "text": [
      "yes\n",
      "no\n",
      "yes\n"
     ]
    }
   ],
   "source": [
    "test9 = ['89654545426', '69654545426', '9275697134']\n",
    "for ph in test9:\n",
    "    if re.match(r'[8]{1}[0-9]{10}|[9]{1}[0-9]{9}', ph):\n",
    "        print('yes')\n",
    "    else:\n",
    "        print('no')"
   ]
  },
  {
   "cell_type": "markdown",
   "metadata": {},
   "source": [
    "10. Напишите регулярное выражение, которое проверяет, что все предложения в строке\n",
    "начинаются с заглавной буквы."
   ]
  },
  {
   "cell_type": "code",
   "execution_count": 337,
   "metadata": {},
   "outputs": [
    {
     "name": "stdout",
     "output_type": "stream",
     "text": [
      "yes\n",
      "yes\n",
      "no\n"
     ]
    }
   ],
   "source": [
    "test10_str = 'Кошка мяучет. На сей раз по приказу Диоклетиана он был забит камнями до смерти. святой явился во сне христианке Лукине.'\n",
    "test11_str = re.split(r'[.!?]\\s+', test10_str)\n",
    "for i in test11_str:\n",
    "    if re.match(r'^\\b[А-Я]\\w*\\b|[.]\\s+\\b[А-Я]\\w*\\b', i):\n",
    "        print ('yes')\n",
    "    else:\n",
    "        print('no')\n"
   ]
  },
  {
   "cell_type": "code",
   "execution_count": null,
   "metadata": {},
   "outputs": [],
   "source": []
  }
 ],
 "metadata": {
  "kernelspec": {
   "display_name": "Python 3",
   "language": "python",
   "name": "python3"
  },
  "language_info": {
   "codemirror_mode": {
    "name": "ipython",
    "version": 3
   },
   "file_extension": ".py",
   "mimetype": "text/x-python",
   "name": "python",
   "nbconvert_exporter": "python",
   "pygments_lexer": "ipython3",
   "version": "3.8.5"
  }
 },
 "nbformat": 4,
 "nbformat_minor": 4
}
