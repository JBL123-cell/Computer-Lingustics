{
 "cells": [
  {
   "cell_type": "code",
   "execution_count": 119,
   "metadata": {},
   "outputs": [],
   "source": [
    "import re\n",
    "import json\n",
    "with open('fl.json', encoding='utf-8') as f:\n",
    "    data = json.load(f)"
   ]
  },
  {
   "cell_type": "markdown",
   "metadata": {},
   "source": [
    "1. Избавляемся от html-разметки \\n, которая встречается по всему тексту"
   ]
  },
  {
   "cell_type": "code",
   "execution_count": 120,
   "metadata": {},
   "outputs": [],
   "source": [
    "for i in range(len(data)):\n",
    "    data[str(i)]['text'] = re.sub(r'(\\n)', r' ', data[str(i)]['text'])"
   ]
  },
  {
   "cell_type": "markdown",
   "metadata": {},
   "source": [
    "2. Удаляем информация в {}"
   ]
  },
  {
   "cell_type": "code",
   "execution_count": 121,
   "metadata": {},
   "outputs": [],
   "source": [
    "for i in range(len(data)):\n",
    "    data[str(i)]['text'] = re.sub(r'\\{(.*?)\\}*|(.*?)\\}', r' ',  data[str(i)]['text'])"
   ]
  },
  {
   "cell_type": "markdown",
   "metadata": {},
   "source": [
    "3. Ударение"
   ]
  },
  {
   "cell_type": "code",
   "execution_count": 124,
   "metadata": {},
   "outputs": [
    {
     "name": "stdout",
     "output_type": "stream",
     "text": [
      "['а́']\n",
      "['а́']\n",
      "['а́']\n",
      "['а́']\n",
      "['а́']\n",
      "['а́']\n",
      "['а́']\n",
      "['а́']\n",
      "['а́']\n",
      "['а́']\n",
      "['а́']\n",
      "['а́']\n",
      "['а́']\n",
      "['а́']\n",
      "['а́']\n",
      "['а́']\n",
      "['а́']\n",
      "['а́', 'а́']\n",
      "['а́']\n",
      "['а́']\n",
      "['а́', 'а́']\n",
      "['а́']\n",
      "['а́', 'а́']\n",
      "['а́', 'а́']\n",
      "['а́']\n",
      "['а́']\n",
      "['а́']\n",
      "['а́', 'а́']\n",
      "['а́']\n",
      "['а́', 'а́']\n",
      "['а́']\n",
      "['а́']\n",
      "['а́', 'а́', 'а́']\n",
      "['а́']\n",
      "['а́']\n",
      "['а́']\n",
      "['а́']\n",
      "['а́', 'а́']\n",
      "['а́', 'а́']\n",
      "['а́', 'а́']\n",
      "['а́', 'а́']\n",
      "['а́', 'а́']\n",
      "['а́']\n",
      "['а́']\n",
      "['а́']\n",
      "['а́']\n",
      "['а́']\n",
      "['а́']\n",
      "['а́']\n"
     ]
    }
   ],
   "source": [
    "for i in range(len(data)):\n",
    "    if len(re.findall(r'а́', data[str(i)]['text'])) != 0:\n",
    "        print(re.findall(r'а́', data[str(i)]['text']))"
   ]
  },
  {
   "cell_type": "code",
   "execution_count": 125,
   "metadata": {},
   "outputs": [],
   "source": [
    "ud = {'а́':'a', 'е́':'е', 'и́':'и', 'о́': 'о', 'у́': 'у', 'ы́': 'ы', 'э́': 'э', 'ю́': 'ю', 'я́': 'я', 'Á':'А', 'Ó':'О', 'É':'Е', 'У́ ': 'У', 'И́ ':'И', \n",
    "      'Э́ ': 'Э', 'Ю́ ':'Ю', 'Я́ ':'Я'}"
   ]
  },
  {
   "cell_type": "code",
   "execution_count": 126,
   "metadata": {},
   "outputs": [],
   "source": [
    "for i in range(len(data)):\n",
    "    for udar, wor in ud.items():\n",
    "        match = re.search(udar, data[str(i)]['text'])\n",
    "        if match:\n",
    "            data[str(i)]['text'] = data[str(i)]['text'].replace(str(data[str(i)]['text'][match.start():match.end()]), wor)"
   ]
  },
  {
   "cell_type": "code",
   "execution_count": 127,
   "metadata": {},
   "outputs": [],
   "source": [
    "for i in range(len(data)):\n",
    "    if len(re.findall(r'а́', data[str(i)]['text'])) != 0:\n",
    "        print(re.findall(r'а́', data[str(i)]['text']))"
   ]
  },
  {
   "cell_type": "markdown",
   "metadata": {},
   "source": [
    "4. В тексте часто встречаются древнегреческие, корейские, математические символы, названия величин, а также английские переводы названий комет, которые в будущем при обработке текста значения иметь не будут, поэтому удалим их и оставим только русские слова и цифры"
   ]
  },
  {
   "cell_type": "code",
   "execution_count": 128,
   "metadata": {},
   "outputs": [],
   "source": [
    "for i in range(len(data)):\n",
    "    data[str(i)]['text'] = re.sub(r'[^а-яЁёА-Я0-9.,;]', r' ', data[str(i)]['text'])"
   ]
  },
  {
   "cell_type": "markdown",
   "metadata": {},
   "source": [
    "5. Удалим ненужные пробелы"
   ]
  },
  {
   "cell_type": "code",
   "execution_count": 129,
   "metadata": {},
   "outputs": [],
   "source": [
    "for i in range(len(data)):\n",
    "    data[str(i)]['text'] = re.sub(r'\\s+', r' ', data[str(i)]['text'])\n"
   ]
  },
  {
   "cell_type": "markdown",
   "metadata": {},
   "source": [
    "6. Так как это данные из википедии, то часто встречаются в скобочках перевод, перед которыми пишутся 'англ' или 'рус', которые неважны, поэтому удалим их."
   ]
  },
  {
   "cell_type": "code",
   "execution_count": 130,
   "metadata": {},
   "outputs": [],
   "source": [
    "for i in range(len(data)):\n",
    "    data[str(i)]['text'] = re.sub(r'(англ)|(рус)|(греч)|(сокр)', r' ', data[str(i)]['text'])"
   ]
  },
  {
   "cell_type": "markdown",
   "metadata": {},
   "source": [
    "7. В словаре встречаются номера, под которыми нет текста. Избавимся от них и добавим в список все отформатированные тексты."
   ]
  },
  {
   "cell_type": "code",
   "execution_count": 132,
   "metadata": {},
   "outputs": [],
   "source": [
    "lst = []\n",
    "for i in range(len(data)):\n",
    "    if len(data[str(i)]['text'].strip()) != 0:\n",
    "        lst.append(data[str(i)]['text'])"
   ]
  },
  {
   "cell_type": "code",
   "execution_count": 133,
   "metadata": {},
   "outputs": [],
   "source": [
    "import json\n",
    "data_new = {}\n",
    "for i in range(len(lst)):\n",
    "    data_new[i] = {'text': lst[i]}"
   ]
  },
  {
   "cell_type": "code",
   "execution_count": 134,
   "metadata": {},
   "outputs": [],
   "source": [
    "with open('fl5.json', 'w', encoding='utf-8') as file:\n",
    "    json.dump(data_new, file, indent=4, ensure_ascii=False)"
   ]
  },
  {
   "cell_type": "markdown",
   "metadata": {},
   "source": [
    "Посмотрим, как изменилось количество слов на документ после обработки регулярными выражениями"
   ]
  },
  {
   "cell_type": "code",
   "execution_count": 135,
   "metadata": {},
   "outputs": [
    {
     "name": "stdout",
     "output_type": "stream",
     "text": [
      "30456\n"
     ]
    }
   ],
   "source": [
    "a = 0\n",
    "for st in lst:\n",
    "    a += int(len(st.split()))\n",
    "print(a) #всего слов"
   ]
  },
  {
   "cell_type": "code",
   "execution_count": 136,
   "metadata": {},
   "outputs": [
    {
     "data": {
      "text/plain": [
       "264"
      ]
     },
     "execution_count": 136,
     "metadata": {},
     "output_type": "execute_result"
    }
   ],
   "source": [
    "len(lst) #всего документов"
   ]
  },
  {
   "cell_type": "code",
   "execution_count": 137,
   "metadata": {},
   "outputs": [
    {
     "data": {
      "text/plain": [
       "115.12878787878788"
      ]
     },
     "execution_count": 137,
     "metadata": {},
     "output_type": "execute_result"
    }
   ],
   "source": [
    "30394/264 #в среднем слов на один документ"
   ]
  }
 ],
 "metadata": {
  "kernelspec": {
   "display_name": "Python 3",
   "language": "python",
   "name": "python3"
  },
  "language_info": {
   "codemirror_mode": {
    "name": "ipython",
    "version": 3
   },
   "file_extension": ".py",
   "mimetype": "text/x-python",
   "name": "python",
   "nbconvert_exporter": "python",
   "pygments_lexer": "ipython3",
   "version": "3.8.5"
  }
 },
 "nbformat": 4,
 "nbformat_minor": 4
}
