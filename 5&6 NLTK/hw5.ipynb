{
 "cells": [
  {
   "cell_type": "code",
   "execution_count": 1,
   "metadata": {},
   "outputs": [],
   "source": [
    "import pandas as pd\n",
    "from nltk.tokenize import word_tokenize\n",
    "import string"
   ]
  },
  {
   "cell_type": "code",
   "execution_count": 2,
   "metadata": {},
   "outputs": [
    {
     "name": "stderr",
     "output_type": "stream",
     "text": [
      "[nltk_data] Downloading package punkt to\n",
      "[nltk_data]     C:\\Users\\redic\\AppData\\Roaming\\nltk_data...\n",
      "[nltk_data]   Package punkt is already up-to-date!\n"
     ]
    },
    {
     "data": {
      "text/plain": [
       "True"
      ]
     },
     "execution_count": 2,
     "metadata": {},
     "output_type": "execute_result"
    }
   ],
   "source": [
    "import nltk\n",
    "nltk.download('punkt')"
   ]
  },
  {
   "cell_type": "code",
   "execution_count": 3,
   "metadata": {},
   "outputs": [],
   "source": [
    "from pymorphy2 import MorphAnalyzer"
   ]
  },
  {
   "cell_type": "code",
   "execution_count": 4,
   "metadata": {},
   "outputs": [],
   "source": [
    "from sklearn.model_selection import train_test_split\n",
    "from sklearn.feature_extraction.text import CountVectorizer\n",
    "from sklearn.feature_extraction.text import TfidfVectorizer"
   ]
  },
  {
   "cell_type": "markdown",
   "metadata": {},
   "source": [
    "# Загрузка датасета и описание его основных характеристик"
   ]
  },
  {
   "cell_type": "code",
   "execution_count": 5,
   "metadata": {},
   "outputs": [],
   "source": [
    "news = pd.read_csv('Russia_News.csv', encoding='utf-8')"
   ]
  },
  {
   "cell_type": "code",
   "execution_count": 6,
   "metadata": {},
   "outputs": [
    {
     "data": {
      "text/html": [
       "<div>\n",
       "<style scoped>\n",
       "    .dataframe tbody tr th:only-of-type {\n",
       "        vertical-align: middle;\n",
       "    }\n",
       "\n",
       "    .dataframe tbody tr th {\n",
       "        vertical-align: top;\n",
       "    }\n",
       "\n",
       "    .dataframe thead th {\n",
       "        text-align: right;\n",
       "    }\n",
       "</style>\n",
       "<table border=\"1\" class=\"dataframe\">\n",
       "  <thead>\n",
       "    <tr style=\"text-align: right;\">\n",
       "      <th></th>\n",
       "      <th>title</th>\n",
       "      <th>topic</th>\n",
       "    </tr>\n",
       "  </thead>\n",
       "  <tbody>\n",
       "    <tr>\n",
       "      <th>0</th>\n",
       "      <td>Microsoft обвиняется в подсуживании в пользу К...</td>\n",
       "      <td>Интернет и СМИ</td>\n",
       "    </tr>\n",
       "    <tr>\n",
       "      <th>1</th>\n",
       "      <td>Сайт кандидата в президенты США был взломан на...</td>\n",
       "      <td>Интернет и СМИ</td>\n",
       "    </tr>\n",
       "    <tr>\n",
       "      <th>2</th>\n",
       "      <td>ФБР выпустит предупреждение-2000 для правоохра...</td>\n",
       "      <td>Интернет и СМИ</td>\n",
       "    </tr>\n",
       "    <tr>\n",
       "      <th>3</th>\n",
       "      <td>Треть российских компьютерных систем не готова...</td>\n",
       "      <td>Интернет и СМИ</td>\n",
       "    </tr>\n",
       "    <tr>\n",
       "      <th>4</th>\n",
       "      <td>Интернет скоро похоронит бумажные письма</td>\n",
       "      <td>Интернет и СМИ</td>\n",
       "    </tr>\n",
       "  </tbody>\n",
       "</table>\n",
       "</div>"
      ],
      "text/plain": [
       "                                               title           topic\n",
       "0  Microsoft обвиняется в подсуживании в пользу К...  Интернет и СМИ\n",
       "1  Сайт кандидата в президенты США был взломан на...  Интернет и СМИ\n",
       "2  ФБР выпустит предупреждение-2000 для правоохра...  Интернет и СМИ\n",
       "3  Треть российских компьютерных систем не готова...  Интернет и СМИ\n",
       "4           Интернет скоро похоронит бумажные письма  Интернет и СМИ"
      ]
     },
     "execution_count": 6,
     "metadata": {},
     "output_type": "execute_result"
    }
   ],
   "source": [
    "news.head()"
   ]
  },
  {
   "cell_type": "markdown",
   "metadata": {},
   "source": [
    "В датасете содержаться названия статей и к какой из трех тем (\"Интернет и СМИ\", \"Из жизни\", \"Путешествия\") они принадлежат. Посмотрим количество статей по каждой рубрике."
   ]
  },
  {
   "cell_type": "code",
   "execution_count": 7,
   "metadata": {},
   "outputs": [
    {
     "data": {
      "text/plain": [
       "Интернет и СМИ    44663\n",
       "Из жизни          27605\n",
       "Путешествия        6408\n",
       "Name: topic, dtype: int64"
      ]
     },
     "execution_count": 7,
     "metadata": {},
     "output_type": "execute_result"
    }
   ],
   "source": [
    "news['topic'].value_counts()"
   ]
  },
  {
   "cell_type": "code",
   "execution_count": 8,
   "metadata": {},
   "outputs": [
    {
     "data": {
      "image/png": "[encoded data removed]",
      "text/plain": [
       "<Figure size 360x360 with 1 Axes>"
      ]
     },
     "metadata": {},
     "output_type": "display_data"
    }
   ],
   "source": [
    "internet = news[news['topic'] == 'Интернет и СМИ'].shape[0]\n",
    "life = news[news['topic'] == 'Из жизни'].shape[0]\n",
    "travel = news[news['topic'] == 'Путешествия'].shape[0]\n",
    "uni_pie = pd.DataFrame({\"\": [internet, life, travel]},\n",
    "                       index=[\"Интернет и СМИ\", \"Из жизни\", \"Путешествия\"])\n",
    "uni_pie.plot.pie(y=\"\",\n",
    "                 colors=[\"c\", \"m\", \"r\"],\n",
    "                 autopct=\"%.1f\",\n",
    "                 fontsize=10,\n",
    "                 figsize=(5, 5));"
   ]
  },
  {
   "cell_type": "markdown",
   "metadata": {},
   "source": [
    "Основные характеристики датасета"
   ]
  },
  {
   "cell_type": "code",
   "execution_count": 9,
   "metadata": {},
   "outputs": [
    {
     "name": "stdout",
     "output_type": "stream",
     "text": [
      "Количество строк: 78676\n",
      "Суммарное количество слов по всем заголовкам: 592147\n",
      "Среднее количество слов на один заголовок: 7.526399410239463\n",
      "Медиана количества слов на один заголовок: 7.0\n"
     ]
    }
   ],
   "source": [
    "from statistics import median\n",
    "text_of_all_news = []\n",
    "for t in news['title']:\n",
    "    text_of_all_news.append(t)\n",
    "a = 0\n",
    "for st in text_of_all_news:\n",
    "    a += int(len(st.split()))\n",
    "aver_words = a/news.shape[0]\n",
    "med = []\n",
    "for t in news['title']:\n",
    "    med.append(int(len(t.split())))\n",
    "med = median(med)\n",
    "print('Количество строк: {}'.format(news.shape[0]))\n",
    "print('Суммарное количество слов по всем заголовкам: {}'.format(a))\n",
    "print('Среднее количество слов на один заголовок: {}'.format(aver_words))\n",
    "print('Медиана количества слов на один заголовок: {}'.format(med))"
   ]
  },
  {
   "cell_type": "markdown",
   "metadata": {},
   "source": [
    "# Предобработка текста"
   ]
  },
  {
   "cell_type": "code",
   "execution_count": 10,
   "metadata": {},
   "outputs": [],
   "source": [
    "list_of_texts = news['title'].to_list()"
   ]
  },
  {
   "cell_type": "code",
   "execution_count": 11,
   "metadata": {},
   "outputs": [
    {
     "data": {
      "text/plain": [
       "['Microsoft обвиняется в\\xa0подсуживании в\\xa0пользу Каспарова',\n",
       " 'Сайт кандидата в\\xa0президенты США был взломан на\\xa0пять минут',\n",
       " 'ФБР выпустит предупреждение-2000\\xa0для правоохранительных органов',\n",
       " 'Треть российских компьютерных систем не\\xa0готова к\\xa02000\\xa0году',\n",
       " 'Интернет скоро похоронит бумажные письма',\n",
       " 'Центризбирком решил помочь электронным СМИ освещать выборы',\n",
       " 'Интернет: ты\\xa0помнишь, как все начиналось?',\n",
       " '\"Проблема-2000\" может привести к\\xa0химической катастрофе',\n",
       " 'Неизвестный хакер взломал компьютерную сеть в\\xa0защиту империи',\n",
       " 'Морская пехота борется с \"червем\"']"
      ]
     },
     "execution_count": 11,
     "metadata": {},
     "output_type": "execute_result"
    }
   ],
   "source": [
    "list_of_texts[:10]"
   ]
  },
  {
   "cell_type": "markdown",
   "metadata": {},
   "source": [
    "### Очистим текст от пунктуации, чисел и стоп-слов, приведем все слова к нижнему регистру"
   ]
  },
  {
   "cell_type": "code",
   "execution_count": 12,
   "metadata": {},
   "outputs": [
    {
     "name": "stderr",
     "output_type": "stream",
     "text": [
      "[nltk_data] Downloading package stopwords to\n",
      "[nltk_data]     C:\\Users\\redic\\AppData\\Roaming\\nltk_data...\n",
      "[nltk_data]   Package stopwords is already up-to-date!\n",
      "[nltk_data] Downloading package punkt to\n",
      "[nltk_data]     C:\\Users\\redic\\AppData\\Roaming\\nltk_data...\n",
      "[nltk_data]   Package punkt is already up-to-date!\n"
     ]
    }
   ],
   "source": [
    "import re\n",
    "nltk.download('stopwords')\n",
    "nltk.download('punkt')\n",
    "punct = string.punctuation + \"—\" + \"«\" + \"»\"\n",
    "from nltk.corpus import stopwords\n",
    "stopwords_list = stopwords.words(\"russian\")"
   ]
  },
  {
   "cell_type": "code",
   "execution_count": 13,
   "metadata": {},
   "outputs": [],
   "source": [
    "for i in range(len(list_of_texts)):\n",
    "    list_of_texts[i] = re.sub(r'[0-9]+', ' ', list_of_texts[i])\n",
    "    list_of_texts[i] = re.sub(r\"\\b([а-яА-Я]\\.)\",' ', list_of_texts[i])\n",
    "    list_of_texts[i] = re.sub(r\"\\xa0\",' ', list_of_texts[i])\n",
    "    tokens = word_tokenize(list_of_texts[i])    \n",
    "    tokens = [token.lower() for token in tokens if token not in punct]\n",
    "    list_of_texts[i] = [word for word in tokens if word not in stopwords_list]"
   ]
  },
  {
   "cell_type": "code",
   "execution_count": 14,
   "metadata": {},
   "outputs": [
    {
     "data": {
      "text/plain": [
       "[['microsoft', 'обвиняется', 'подсуживании', 'пользу', 'каспарова'],\n",
       " ['сайт', 'кандидата', 'президенты', 'сша', 'взломан', 'пять', 'минут'],\n",
       " ['фбр', 'выпустит', 'предупреждение-', 'правоохранительных', 'органов'],\n",
       " ['треть', 'российских', 'компьютерных', 'систем', 'готова', 'году'],\n",
       " ['интернет', 'скоро', 'похоронит', 'бумажные', 'письма']]"
      ]
     },
     "execution_count": 14,
     "metadata": {},
     "output_type": "execute_result"
    }
   ],
   "source": [
    "list_of_texts[:5]"
   ]
  },
  {
   "cell_type": "markdown",
   "metadata": {},
   "source": [
    "### Лемматизация "
   ]
  },
  {
   "cell_type": "code",
   "execution_count": 15,
   "metadata": {},
   "outputs": [],
   "source": [
    "import pymorphy2\n",
    "analyzer = pymorphy2.MorphAnalyzer()"
   ]
  },
  {
   "cell_type": "markdown",
   "metadata": {},
   "source": [
    "Избавимся от местоимений-существительный, предлогов, союзов, частиц и междометий и прведем оставшиеся слова к начальной форме"
   ]
  },
  {
   "cell_type": "code",
   "execution_count": 16,
   "metadata": {},
   "outputs": [],
   "source": [
    "all_lemma = []\n",
    "\n",
    "for i in range(len(list_of_texts)):\n",
    "    one_lemma = []\n",
    "    for word in list_of_texts[i]:\n",
    "        if analyzer.parse(word)[0].tag.POS in ('NPRO', 'PREP', 'CONJ', 'PRCL', 'INTJ'):\n",
    "            continue\n",
    "        if analyzer.parse(word)[0].tag.POS is not None:\n",
    "            one_lemma.append(analyzer.parse(word)[0].normal_form)\n",
    "    all_lemma.append(one_lemma)"
   ]
  },
  {
   "cell_type": "code",
   "execution_count": 17,
   "metadata": {},
   "outputs": [
    {
     "data": {
      "text/plain": [
       "[['обвиняться', 'подсуживание', 'польза', 'каспаров'],\n",
       " ['сайт', 'кандидат', 'президент', 'сша', 'взломать', 'пять', 'минута'],\n",
       " ['фбр', 'выпустить', 'правоохранительный', 'орган'],\n",
       " ['треть', 'российский', 'компьютерный', 'система', 'готовый', 'год'],\n",
       " ['интернет', 'скоро', 'похоронить', 'бумажный', 'письмо'],\n",
       " ['центризбирком',\n",
       "  'решить',\n",
       "  'помочь',\n",
       "  'электронный',\n",
       "  'сми',\n",
       "  'освещать',\n",
       "  'выборы'],\n",
       " ['интернет', 'помнить', 'начинаться'],\n",
       " ['привести', 'химический', 'катастрофа'],\n",
       " ['неизвестный',\n",
       "  'хакер',\n",
       "  'взломать',\n",
       "  'компьютерный',\n",
       "  'сеть',\n",
       "  'защита',\n",
       "  'империя'],\n",
       " ['морской', 'пехота', 'бороться', 'червь']]"
      ]
     },
     "execution_count": 17,
     "metadata": {},
     "output_type": "execute_result"
    }
   ],
   "source": [
    "all_lemma[:10]"
   ]
  },
  {
   "cell_type": "markdown",
   "metadata": {},
   "source": [
    "### Разделим наш датасет на обучающую и тестовую части"
   ]
  },
  {
   "cell_type": "code",
   "execution_count": 18,
   "metadata": {},
   "outputs": [],
   "source": [
    "y = news['topic']"
   ]
  },
  {
   "cell_type": "code",
   "execution_count": 19,
   "metadata": {},
   "outputs": [
    {
     "data": {
      "text/plain": [
       "['обвиняться подсуживание польза каспаров',\n",
       " 'сайт кандидат президент сша взломать пять минута',\n",
       " 'фбр выпустить правоохранительный орган',\n",
       " 'треть российский компьютерный система готовый год',\n",
       " 'интернет скоро похоронить бумажный письмо']"
      ]
     },
     "execution_count": 19,
     "metadata": {},
     "output_type": "execute_result"
    }
   ],
   "source": [
    "X = [' '.join(text) for text in all_lemma]\n",
    "X[:5]"
   ]
  },
  {
   "cell_type": "code",
   "execution_count": 20,
   "metadata": {},
   "outputs": [],
   "source": [
    "X_train, X_test, y_train, y_test = train_test_split(X, y, test_size=0.33)"
   ]
  },
  {
   "cell_type": "markdown",
   "metadata": {},
   "source": [
    "# Мешок n-грамм и мешок слов"
   ]
  },
  {
   "cell_type": "code",
   "execution_count": 23,
   "metadata": {},
   "outputs": [],
   "source": [
    "from nltk import ngrams\n",
    "\n",
    "from sklearn.feature_extraction.text import CountVectorizer\n",
    "from sklearn.naive_bayes import MultinomialNB\n",
    "from sklearn.metrics import recall_score, accuracy_score, f1_score, precision_score\n",
    "from sklearn.metrics import * "
   ]
  },
  {
   "cell_type": "code",
   "execution_count": 86,
   "metadata": {},
   "outputs": [],
   "source": [
    "dic_ngrams = {'n-gramms (1,2)': (1,2), 'n-gramms (1,3)': (1,3), 'n-gramms (1,4) ': (1,4), 'n-gramms (1,5)': (1,5), 'n-gramms (1,6)': (1,6), 'bag of words': (1,1)}\n",
    "vectorizers = {'vectorizer': [], 'precision': [], 'recall': [],\n",
    "              'accuracy': [], 'f_1': []}"
   ]
  },
  {
   "cell_type": "code",
   "execution_count": 87,
   "metadata": {},
   "outputs": [],
   "source": [
    "for name, rng in dic_ngrams.items():\n",
    "    vectorizer = CountVectorizer(ngram_range=rng)\n",
    "    vectorized_x_train = vectorizer.fit_transform(X_train)\n",
    "    clf = MultinomialNB()\n",
    "    clf.fit(vectorized_x_train, y_train)\n",
    "    vectorized_x_test = vectorizer.transform(X_test)\n",
    "    pred = clf.predict(vectorized_x_test)\n",
    "    vectorizers['vectorizer'].append(name)\n",
    "    vectorizers['precision'].append(precision_score(y_test, pred, average='macro'))\n",
    "    vectorizers['recall'].append(recall_score(y_test, pred, average='macro'))\n",
    "    vectorizers['accuracy'].append(accuracy_score(y_test, pred))\n",
    "    vectorizers['f_1'].append(f1_score(y_test, pred, average='macro'))"
   ]
  },
  {
   "cell_type": "code",
   "execution_count": 88,
   "metadata": {},
   "outputs": [
    {
     "data": {
      "text/html": [
       "<div>\n",
       "<style scoped>\n",
       "    .dataframe tbody tr th:only-of-type {\n",
       "        vertical-align: middle;\n",
       "    }\n",
       "\n",
       "    .dataframe tbody tr th {\n",
       "        vertical-align: top;\n",
       "    }\n",
       "\n",
       "    .dataframe thead th {\n",
       "        text-align: right;\n",
       "    }\n",
       "</style>\n",
       "<table border=\"1\" class=\"dataframe\">\n",
       "  <thead>\n",
       "    <tr style=\"text-align: right;\">\n",
       "      <th></th>\n",
       "      <th>vectorizer</th>\n",
       "      <th>precision</th>\n",
       "      <th>recall</th>\n",
       "      <th>accuracy</th>\n",
       "      <th>f_1</th>\n",
       "    </tr>\n",
       "  </thead>\n",
       "  <tbody>\n",
       "    <tr>\n",
       "      <th>0</th>\n",
       "      <td>n-gramms (1,2)</td>\n",
       "      <td>0.892957</td>\n",
       "      <td>0.797901</td>\n",
       "      <td>0.879911</td>\n",
       "      <td>0.833219</td>\n",
       "    </tr>\n",
       "    <tr>\n",
       "      <th>1</th>\n",
       "      <td>n-gramms (1,3)</td>\n",
       "      <td>0.892780</td>\n",
       "      <td>0.782013</td>\n",
       "      <td>0.875481</td>\n",
       "      <td>0.821056</td>\n",
       "    </tr>\n",
       "    <tr>\n",
       "      <th>2</th>\n",
       "      <td>n-gramms (1,4)</td>\n",
       "      <td>0.892198</td>\n",
       "      <td>0.773682</td>\n",
       "      <td>0.872747</td>\n",
       "      <td>0.814260</td>\n",
       "    </tr>\n",
       "    <tr>\n",
       "      <th>3</th>\n",
       "      <td>n-gramms (1,5)</td>\n",
       "      <td>0.892474</td>\n",
       "      <td>0.769994</td>\n",
       "      <td>0.871668</td>\n",
       "      <td>0.811352</td>\n",
       "    </tr>\n",
       "    <tr>\n",
       "      <th>4</th>\n",
       "      <td>n-gramms (1,6)</td>\n",
       "      <td>0.892020</td>\n",
       "      <td>0.767287</td>\n",
       "      <td>0.871091</td>\n",
       "      <td>0.808967</td>\n",
       "    </tr>\n",
       "    <tr>\n",
       "      <th>5</th>\n",
       "      <td>bag of words</td>\n",
       "      <td>0.869392</td>\n",
       "      <td>0.844369</td>\n",
       "      <td>0.886112</td>\n",
       "      <td>0.855720</td>\n",
       "    </tr>\n",
       "  </tbody>\n",
       "</table>\n",
       "</div>"
      ],
      "text/plain": [
       "        vectorizer  precision    recall  accuracy       f_1\n",
       "0   n-gramms (1,2)   0.892957  0.797901  0.879911  0.833219\n",
       "1   n-gramms (1,3)   0.892780  0.782013  0.875481  0.821056\n",
       "2  n-gramms (1,4)    0.892198  0.773682  0.872747  0.814260\n",
       "3   n-gramms (1,5)   0.892474  0.769994  0.871668  0.811352\n",
       "4   n-gramms (1,6)   0.892020  0.767287  0.871091  0.808967\n",
       "5     bag of words   0.869392  0.844369  0.886112  0.855720"
      ]
     },
     "execution_count": 88,
     "metadata": {},
     "output_type": "execute_result"
    }
   ],
   "source": [
    "df = pd.DataFrame.from_dict(vectorizers)\n",
    "df"
   ]
  },
  {
   "cell_type": "markdown",
   "metadata": {},
   "source": [
    "# Символьные n-граммы"
   ]
  },
  {
   "cell_type": "code",
   "execution_count": 89,
   "metadata": {},
   "outputs": [],
   "source": [
    "dic_char = {'n-char (2,8)': (2,8), 'n-char (2,9)': (2,9), 'n-char (2,10)': (2,10), 'n-char (3,8)': (3,8), 'n-char (3,9)': (3,9), 'n-char (3,10)': (3,10),\n",
    "           'n-char (4,8)': (4,8), 'n-char (4,9)': (4,9), 'n-char (4,10)': (4,10)}"
   ]
  },
  {
   "cell_type": "code",
   "execution_count": 90,
   "metadata": {},
   "outputs": [],
   "source": [
    "for name, rng in dic_char.items():\n",
    "    char_vectorizer = CountVectorizer(analyzer='char', ngram_range=rng)\n",
    "    char_vectorized_x_train = char_vectorizer.fit_transform(X_train)\n",
    "    clf = MultinomialNB()\n",
    "    clf.fit(char_vectorized_x_train, y_train)\n",
    "    char_vectorized_x_test = char_vectorizer.transform(X_test)\n",
    "    pred = clf.predict(char_vectorized_x_test)\n",
    "    vectorizers['vectorizer'].append(name)\n",
    "    vectorizers['precision'].append(precision_score(y_test, pred, average='macro'))\n",
    "    vectorizers['recall'].append(recall_score(y_test, pred, average='macro'))\n",
    "    vectorizers['accuracy'].append(accuracy_score(y_test, pred))\n",
    "    vectorizers['f_1'].append(f1_score(y_test, pred, average='macro'))"
   ]
  },
  {
   "cell_type": "code",
   "execution_count": 91,
   "metadata": {},
   "outputs": [
    {
     "data": {
      "text/html": [
       "<div>\n",
       "<style scoped>\n",
       "    .dataframe tbody tr th:only-of-type {\n",
       "        vertical-align: middle;\n",
       "    }\n",
       "\n",
       "    .dataframe tbody tr th {\n",
       "        vertical-align: top;\n",
       "    }\n",
       "\n",
       "    .dataframe thead th {\n",
       "        text-align: right;\n",
       "    }\n",
       "</style>\n",
       "<table border=\"1\" class=\"dataframe\">\n",
       "  <thead>\n",
       "    <tr style=\"text-align: right;\">\n",
       "      <th></th>\n",
       "      <th>vectorizer</th>\n",
       "      <th>precision</th>\n",
       "      <th>recall</th>\n",
       "      <th>accuracy</th>\n",
       "      <th>f_1</th>\n",
       "    </tr>\n",
       "  </thead>\n",
       "  <tbody>\n",
       "    <tr>\n",
       "      <th>0</th>\n",
       "      <td>n-gramms (1,2)</td>\n",
       "      <td>0.892957</td>\n",
       "      <td>0.797901</td>\n",
       "      <td>0.879911</td>\n",
       "      <td>0.833219</td>\n",
       "    </tr>\n",
       "    <tr>\n",
       "      <th>1</th>\n",
       "      <td>n-gramms (1,3)</td>\n",
       "      <td>0.892780</td>\n",
       "      <td>0.782013</td>\n",
       "      <td>0.875481</td>\n",
       "      <td>0.821056</td>\n",
       "    </tr>\n",
       "    <tr>\n",
       "      <th>2</th>\n",
       "      <td>n-gramms (1,4)</td>\n",
       "      <td>0.892198</td>\n",
       "      <td>0.773682</td>\n",
       "      <td>0.872747</td>\n",
       "      <td>0.814260</td>\n",
       "    </tr>\n",
       "    <tr>\n",
       "      <th>3</th>\n",
       "      <td>n-gramms (1,5)</td>\n",
       "      <td>0.892474</td>\n",
       "      <td>0.769994</td>\n",
       "      <td>0.871668</td>\n",
       "      <td>0.811352</td>\n",
       "    </tr>\n",
       "    <tr>\n",
       "      <th>4</th>\n",
       "      <td>n-gramms (1,6)</td>\n",
       "      <td>0.892020</td>\n",
       "      <td>0.767287</td>\n",
       "      <td>0.871091</td>\n",
       "      <td>0.808967</td>\n",
       "    </tr>\n",
       "    <tr>\n",
       "      <th>5</th>\n",
       "      <td>bag of words</td>\n",
       "      <td>0.869392</td>\n",
       "      <td>0.844369</td>\n",
       "      <td>0.886112</td>\n",
       "      <td>0.855720</td>\n",
       "    </tr>\n",
       "    <tr>\n",
       "      <th>6</th>\n",
       "      <td>n-char (2,8)</td>\n",
       "      <td>0.866163</td>\n",
       "      <td>0.819089</td>\n",
       "      <td>0.873209</td>\n",
       "      <td>0.838977</td>\n",
       "    </tr>\n",
       "    <tr>\n",
       "      <th>7</th>\n",
       "      <td>n-char (2,9)</td>\n",
       "      <td>0.869637</td>\n",
       "      <td>0.806701</td>\n",
       "      <td>0.871553</td>\n",
       "      <td>0.832170</td>\n",
       "    </tr>\n",
       "    <tr>\n",
       "      <th>8</th>\n",
       "      <td>n-char (2,10)</td>\n",
       "      <td>0.872486</td>\n",
       "      <td>0.797755</td>\n",
       "      <td>0.870397</td>\n",
       "      <td>0.827045</td>\n",
       "    </tr>\n",
       "    <tr>\n",
       "      <th>9</th>\n",
       "      <td>n-char (3,8)</td>\n",
       "      <td>0.863365</td>\n",
       "      <td>0.826385</td>\n",
       "      <td>0.874365</td>\n",
       "      <td>0.842496</td>\n",
       "    </tr>\n",
       "    <tr>\n",
       "      <th>10</th>\n",
       "      <td>n-char (3,9)</td>\n",
       "      <td>0.866277</td>\n",
       "      <td>0.816941</td>\n",
       "      <td>0.873016</td>\n",
       "      <td>0.837856</td>\n",
       "    </tr>\n",
       "    <tr>\n",
       "      <th>11</th>\n",
       "      <td>n-char (3,10)</td>\n",
       "      <td>0.869061</td>\n",
       "      <td>0.808689</td>\n",
       "      <td>0.872131</td>\n",
       "      <td>0.833531</td>\n",
       "    </tr>\n",
       "    <tr>\n",
       "      <th>12</th>\n",
       "      <td>n-char (4,8)</td>\n",
       "      <td>0.859262</td>\n",
       "      <td>0.830552</td>\n",
       "      <td>0.874827</td>\n",
       "      <td>0.843430</td>\n",
       "    </tr>\n",
       "    <tr>\n",
       "      <th>13</th>\n",
       "      <td>n-char (4,9)</td>\n",
       "      <td>0.863322</td>\n",
       "      <td>0.821256</td>\n",
       "      <td>0.873825</td>\n",
       "      <td>0.839501</td>\n",
       "    </tr>\n",
       "    <tr>\n",
       "      <th>14</th>\n",
       "      <td>n-char (4,10)</td>\n",
       "      <td>0.864270</td>\n",
       "      <td>0.816462</td>\n",
       "      <td>0.872593</td>\n",
       "      <td>0.836949</td>\n",
       "    </tr>\n",
       "  </tbody>\n",
       "</table>\n",
       "</div>"
      ],
      "text/plain": [
       "         vectorizer  precision    recall  accuracy       f_1\n",
       "0    n-gramms (1,2)   0.892957  0.797901  0.879911  0.833219\n",
       "1    n-gramms (1,3)   0.892780  0.782013  0.875481  0.821056\n",
       "2   n-gramms (1,4)    0.892198  0.773682  0.872747  0.814260\n",
       "3    n-gramms (1,5)   0.892474  0.769994  0.871668  0.811352\n",
       "4    n-gramms (1,6)   0.892020  0.767287  0.871091  0.808967\n",
       "5      bag of words   0.869392  0.844369  0.886112  0.855720\n",
       "6      n-char (2,8)   0.866163  0.819089  0.873209  0.838977\n",
       "7      n-char (2,9)   0.869637  0.806701  0.871553  0.832170\n",
       "8     n-char (2,10)   0.872486  0.797755  0.870397  0.827045\n",
       "9      n-char (3,8)   0.863365  0.826385  0.874365  0.842496\n",
       "10     n-char (3,9)   0.866277  0.816941  0.873016  0.837856\n",
       "11    n-char (3,10)   0.869061  0.808689  0.872131  0.833531\n",
       "12     n-char (4,8)   0.859262  0.830552  0.874827  0.843430\n",
       "13     n-char (4,9)   0.863322  0.821256  0.873825  0.839501\n",
       "14    n-char (4,10)   0.864270  0.816462  0.872593  0.836949"
      ]
     },
     "execution_count": 91,
     "metadata": {},
     "output_type": "execute_result"
    }
   ],
   "source": [
    "tb = pd.DataFrame.from_dict(vectorizers)\n",
    "tb"
   ]
  },
  {
   "cell_type": "markdown",
   "metadata": {},
   "source": [
    "# TF-IDF векторизация"
   ]
  },
  {
   "cell_type": "code",
   "execution_count": 92,
   "metadata": {},
   "outputs": [],
   "source": [
    "from sklearn.feature_extraction.text import TfidfVectorizer"
   ]
  },
  {
   "cell_type": "code",
   "execution_count": 93,
   "metadata": {},
   "outputs": [],
   "source": [
    "rng = [(1, 3), (1,4), (1,5)]\n",
    "max_df = [0.75, 0.85, 0.95]\n",
    "min_df = [3, 4, 5]"
   ]
  },
  {
   "cell_type": "code",
   "execution_count": 94,
   "metadata": {},
   "outputs": [],
   "source": [
    "for r in rng:\n",
    "    for max_d in max_df:\n",
    "        for min_d in min_df:\n",
    "            name = 'tf-idf'\n",
    "            tfidf_vectorizer = TfidfVectorizer(ngram_range=r, max_df = max_d, min_df = min_d)\n",
    "            tfidf_vectorized_x_train = tfidf_vectorizer.fit_transform(X_train)\n",
    "            clf = MultinomialNB()\n",
    "            clf.fit(tfidf_vectorized_x_train, y_train)\n",
    "            tfidf_vectorized_x_test = tfidf_vectorizer.transform(X_test)\n",
    "            pred = clf.predict(tfidf_vectorized_x_test)\n",
    "            vectorizers['vectorizer'].append(f\"{name}, {r}, {max_d}, {min_d}\")\n",
    "            vectorizers['precision'].append(precision_score(y_test, pred, average='macro'))\n",
    "            vectorizers['recall'].append(recall_score(y_test, pred, average='macro'))\n",
    "            vectorizers['accuracy'].append(accuracy_score(y_test, pred))\n",
    "            vectorizers['f_1'].append(f1_score(y_test, pred, average='macro'))"
   ]
  },
  {
   "cell_type": "code",
   "execution_count": 95,
   "metadata": {},
   "outputs": [
    {
     "data": {
      "text/html": [
       "<div>\n",
       "<style scoped>\n",
       "    .dataframe tbody tr th:only-of-type {\n",
       "        vertical-align: middle;\n",
       "    }\n",
       "\n",
       "    .dataframe tbody tr th {\n",
       "        vertical-align: top;\n",
       "    }\n",
       "\n",
       "    .dataframe thead th {\n",
       "        text-align: right;\n",
       "    }\n",
       "</style>\n",
       "<table border=\"1\" class=\"dataframe\">\n",
       "  <thead>\n",
       "    <tr style=\"text-align: right;\">\n",
       "      <th></th>\n",
       "      <th>vectorizer</th>\n",
       "      <th>precision</th>\n",
       "      <th>recall</th>\n",
       "      <th>accuracy</th>\n",
       "      <th>f_1</th>\n",
       "    </tr>\n",
       "  </thead>\n",
       "  <tbody>\n",
       "    <tr>\n",
       "      <th>0</th>\n",
       "      <td>n-gramms (1,2)</td>\n",
       "      <td>0.892957</td>\n",
       "      <td>0.797901</td>\n",
       "      <td>0.879911</td>\n",
       "      <td>0.833219</td>\n",
       "    </tr>\n",
       "    <tr>\n",
       "      <th>1</th>\n",
       "      <td>n-gramms (1,3)</td>\n",
       "      <td>0.892780</td>\n",
       "      <td>0.782013</td>\n",
       "      <td>0.875481</td>\n",
       "      <td>0.821056</td>\n",
       "    </tr>\n",
       "    <tr>\n",
       "      <th>2</th>\n",
       "      <td>n-gramms (1,4)</td>\n",
       "      <td>0.892198</td>\n",
       "      <td>0.773682</td>\n",
       "      <td>0.872747</td>\n",
       "      <td>0.814260</td>\n",
       "    </tr>\n",
       "    <tr>\n",
       "      <th>3</th>\n",
       "      <td>n-gramms (1,5)</td>\n",
       "      <td>0.892474</td>\n",
       "      <td>0.769994</td>\n",
       "      <td>0.871668</td>\n",
       "      <td>0.811352</td>\n",
       "    </tr>\n",
       "    <tr>\n",
       "      <th>4</th>\n",
       "      <td>n-gramms (1,6)</td>\n",
       "      <td>0.892020</td>\n",
       "      <td>0.767287</td>\n",
       "      <td>0.871091</td>\n",
       "      <td>0.808967</td>\n",
       "    </tr>\n",
       "    <tr>\n",
       "      <th>5</th>\n",
       "      <td>bag of words</td>\n",
       "      <td>0.869392</td>\n",
       "      <td>0.844369</td>\n",
       "      <td>0.886112</td>\n",
       "      <td>0.855720</td>\n",
       "    </tr>\n",
       "    <tr>\n",
       "      <th>6</th>\n",
       "      <td>n-char (2,8)</td>\n",
       "      <td>0.866163</td>\n",
       "      <td>0.819089</td>\n",
       "      <td>0.873209</td>\n",
       "      <td>0.838977</td>\n",
       "    </tr>\n",
       "    <tr>\n",
       "      <th>7</th>\n",
       "      <td>n-char (2,9)</td>\n",
       "      <td>0.869637</td>\n",
       "      <td>0.806701</td>\n",
       "      <td>0.871553</td>\n",
       "      <td>0.832170</td>\n",
       "    </tr>\n",
       "    <tr>\n",
       "      <th>8</th>\n",
       "      <td>n-char (2,10)</td>\n",
       "      <td>0.872486</td>\n",
       "      <td>0.797755</td>\n",
       "      <td>0.870397</td>\n",
       "      <td>0.827045</td>\n",
       "    </tr>\n",
       "    <tr>\n",
       "      <th>9</th>\n",
       "      <td>n-char (3,8)</td>\n",
       "      <td>0.863365</td>\n",
       "      <td>0.826385</td>\n",
       "      <td>0.874365</td>\n",
       "      <td>0.842496</td>\n",
       "    </tr>\n",
       "    <tr>\n",
       "      <th>10</th>\n",
       "      <td>n-char (3,9)</td>\n",
       "      <td>0.866277</td>\n",
       "      <td>0.816941</td>\n",
       "      <td>0.873016</td>\n",
       "      <td>0.837856</td>\n",
       "    </tr>\n",
       "    <tr>\n",
       "      <th>11</th>\n",
       "      <td>n-char (3,10)</td>\n",
       "      <td>0.869061</td>\n",
       "      <td>0.808689</td>\n",
       "      <td>0.872131</td>\n",
       "      <td>0.833531</td>\n",
       "    </tr>\n",
       "    <tr>\n",
       "      <th>12</th>\n",
       "      <td>n-char (4,8)</td>\n",
       "      <td>0.859262</td>\n",
       "      <td>0.830552</td>\n",
       "      <td>0.874827</td>\n",
       "      <td>0.843430</td>\n",
       "    </tr>\n",
       "    <tr>\n",
       "      <th>13</th>\n",
       "      <td>n-char (4,9)</td>\n",
       "      <td>0.863322</td>\n",
       "      <td>0.821256</td>\n",
       "      <td>0.873825</td>\n",
       "      <td>0.839501</td>\n",
       "    </tr>\n",
       "    <tr>\n",
       "      <th>14</th>\n",
       "      <td>n-char (4,10)</td>\n",
       "      <td>0.864270</td>\n",
       "      <td>0.816462</td>\n",
       "      <td>0.872593</td>\n",
       "      <td>0.836949</td>\n",
       "    </tr>\n",
       "    <tr>\n",
       "      <th>15</th>\n",
       "      <td>tf-idf, (1, 3), 0.75, 3</td>\n",
       "      <td>0.885855</td>\n",
       "      <td>0.757109</td>\n",
       "      <td>0.865737</td>\n",
       "      <td>0.797683</td>\n",
       "    </tr>\n",
       "    <tr>\n",
       "      <th>16</th>\n",
       "      <td>tf-idf, (1, 3), 0.75, 4</td>\n",
       "      <td>0.884809</td>\n",
       "      <td>0.771036</td>\n",
       "      <td>0.867778</td>\n",
       "      <td>0.809506</td>\n",
       "    </tr>\n",
       "    <tr>\n",
       "      <th>17</th>\n",
       "      <td>tf-idf, (1, 3), 0.75, 5</td>\n",
       "      <td>0.882150</td>\n",
       "      <td>0.777983</td>\n",
       "      <td>0.868780</td>\n",
       "      <td>0.814731</td>\n",
       "    </tr>\n",
       "    <tr>\n",
       "      <th>18</th>\n",
       "      <td>tf-idf, (1, 3), 0.85, 3</td>\n",
       "      <td>0.885855</td>\n",
       "      <td>0.757109</td>\n",
       "      <td>0.865737</td>\n",
       "      <td>0.797683</td>\n",
       "    </tr>\n",
       "    <tr>\n",
       "      <th>19</th>\n",
       "      <td>tf-idf, (1, 3), 0.85, 4</td>\n",
       "      <td>0.884809</td>\n",
       "      <td>0.771036</td>\n",
       "      <td>0.867778</td>\n",
       "      <td>0.809506</td>\n",
       "    </tr>\n",
       "    <tr>\n",
       "      <th>20</th>\n",
       "      <td>tf-idf, (1, 3), 0.85, 5</td>\n",
       "      <td>0.882150</td>\n",
       "      <td>0.777983</td>\n",
       "      <td>0.868780</td>\n",
       "      <td>0.814731</td>\n",
       "    </tr>\n",
       "    <tr>\n",
       "      <th>21</th>\n",
       "      <td>tf-idf, (1, 3), 0.95, 3</td>\n",
       "      <td>0.885855</td>\n",
       "      <td>0.757109</td>\n",
       "      <td>0.865737</td>\n",
       "      <td>0.797683</td>\n",
       "    </tr>\n",
       "    <tr>\n",
       "      <th>22</th>\n",
       "      <td>tf-idf, (1, 3), 0.95, 4</td>\n",
       "      <td>0.884809</td>\n",
       "      <td>0.771036</td>\n",
       "      <td>0.867778</td>\n",
       "      <td>0.809506</td>\n",
       "    </tr>\n",
       "    <tr>\n",
       "      <th>23</th>\n",
       "      <td>tf-idf, (1, 3), 0.95, 5</td>\n",
       "      <td>0.882150</td>\n",
       "      <td>0.777983</td>\n",
       "      <td>0.868780</td>\n",
       "      <td>0.814731</td>\n",
       "    </tr>\n",
       "    <tr>\n",
       "      <th>24</th>\n",
       "      <td>tf-idf, (1, 4), 0.75, 3</td>\n",
       "      <td>0.885651</td>\n",
       "      <td>0.756378</td>\n",
       "      <td>0.865506</td>\n",
       "      <td>0.796997</td>\n",
       "    </tr>\n",
       "    <tr>\n",
       "      <th>25</th>\n",
       "      <td>tf-idf, (1, 4), 0.75, 4</td>\n",
       "      <td>0.884666</td>\n",
       "      <td>0.770153</td>\n",
       "      <td>0.867663</td>\n",
       "      <td>0.808714</td>\n",
       "    </tr>\n",
       "    <tr>\n",
       "      <th>26</th>\n",
       "      <td>tf-idf, (1, 4), 0.75, 5</td>\n",
       "      <td>0.882131</td>\n",
       "      <td>0.777932</td>\n",
       "      <td>0.868741</td>\n",
       "      <td>0.814696</td>\n",
       "    </tr>\n",
       "    <tr>\n",
       "      <th>27</th>\n",
       "      <td>tf-idf, (1, 4), 0.85, 3</td>\n",
       "      <td>0.885651</td>\n",
       "      <td>0.756378</td>\n",
       "      <td>0.865506</td>\n",
       "      <td>0.796997</td>\n",
       "    </tr>\n",
       "    <tr>\n",
       "      <th>28</th>\n",
       "      <td>tf-idf, (1, 4), 0.85, 4</td>\n",
       "      <td>0.884666</td>\n",
       "      <td>0.770153</td>\n",
       "      <td>0.867663</td>\n",
       "      <td>0.808714</td>\n",
       "    </tr>\n",
       "    <tr>\n",
       "      <th>29</th>\n",
       "      <td>tf-idf, (1, 4), 0.85, 5</td>\n",
       "      <td>0.882131</td>\n",
       "      <td>0.777932</td>\n",
       "      <td>0.868741</td>\n",
       "      <td>0.814696</td>\n",
       "    </tr>\n",
       "    <tr>\n",
       "      <th>30</th>\n",
       "      <td>tf-idf, (1, 4), 0.95, 3</td>\n",
       "      <td>0.885651</td>\n",
       "      <td>0.756378</td>\n",
       "      <td>0.865506</td>\n",
       "      <td>0.796997</td>\n",
       "    </tr>\n",
       "    <tr>\n",
       "      <th>31</th>\n",
       "      <td>tf-idf, (1, 4), 0.95, 4</td>\n",
       "      <td>0.884666</td>\n",
       "      <td>0.770153</td>\n",
       "      <td>0.867663</td>\n",
       "      <td>0.808714</td>\n",
       "    </tr>\n",
       "    <tr>\n",
       "      <th>32</th>\n",
       "      <td>tf-idf, (1, 4), 0.95, 5</td>\n",
       "      <td>0.882131</td>\n",
       "      <td>0.777932</td>\n",
       "      <td>0.868741</td>\n",
       "      <td>0.814696</td>\n",
       "    </tr>\n",
       "    <tr>\n",
       "      <th>33</th>\n",
       "      <td>tf-idf, (1, 5), 0.75, 3</td>\n",
       "      <td>0.885651</td>\n",
       "      <td>0.756378</td>\n",
       "      <td>0.865506</td>\n",
       "      <td>0.796997</td>\n",
       "    </tr>\n",
       "    <tr>\n",
       "      <th>34</th>\n",
       "      <td>tf-idf, (1, 5), 0.75, 4</td>\n",
       "      <td>0.884666</td>\n",
       "      <td>0.770153</td>\n",
       "      <td>0.867663</td>\n",
       "      <td>0.808714</td>\n",
       "    </tr>\n",
       "    <tr>\n",
       "      <th>35</th>\n",
       "      <td>tf-idf, (1, 5), 0.75, 5</td>\n",
       "      <td>0.882359</td>\n",
       "      <td>0.777932</td>\n",
       "      <td>0.868741</td>\n",
       "      <td>0.814756</td>\n",
       "    </tr>\n",
       "    <tr>\n",
       "      <th>36</th>\n",
       "      <td>tf-idf, (1, 5), 0.85, 3</td>\n",
       "      <td>0.885651</td>\n",
       "      <td>0.756378</td>\n",
       "      <td>0.865506</td>\n",
       "      <td>0.796997</td>\n",
       "    </tr>\n",
       "    <tr>\n",
       "      <th>37</th>\n",
       "      <td>tf-idf, (1, 5), 0.85, 4</td>\n",
       "      <td>0.884666</td>\n",
       "      <td>0.770153</td>\n",
       "      <td>0.867663</td>\n",
       "      <td>0.808714</td>\n",
       "    </tr>\n",
       "    <tr>\n",
       "      <th>38</th>\n",
       "      <td>tf-idf, (1, 5), 0.85, 5</td>\n",
       "      <td>0.882359</td>\n",
       "      <td>0.777932</td>\n",
       "      <td>0.868741</td>\n",
       "      <td>0.814756</td>\n",
       "    </tr>\n",
       "    <tr>\n",
       "      <th>39</th>\n",
       "      <td>tf-idf, (1, 5), 0.95, 3</td>\n",
       "      <td>0.885651</td>\n",
       "      <td>0.756378</td>\n",
       "      <td>0.865506</td>\n",
       "      <td>0.796997</td>\n",
       "    </tr>\n",
       "    <tr>\n",
       "      <th>40</th>\n",
       "      <td>tf-idf, (1, 5), 0.95, 4</td>\n",
       "      <td>0.884666</td>\n",
       "      <td>0.770153</td>\n",
       "      <td>0.867663</td>\n",
       "      <td>0.808714</td>\n",
       "    </tr>\n",
       "    <tr>\n",
       "      <th>41</th>\n",
       "      <td>tf-idf, (1, 5), 0.95, 5</td>\n",
       "      <td>0.882359</td>\n",
       "      <td>0.777932</td>\n",
       "      <td>0.868741</td>\n",
       "      <td>0.814756</td>\n",
       "    </tr>\n",
       "  </tbody>\n",
       "</table>\n",
       "</div>"
      ],
      "text/plain": [
       "                 vectorizer  precision    recall  accuracy       f_1\n",
       "0            n-gramms (1,2)   0.892957  0.797901  0.879911  0.833219\n",
       "1            n-gramms (1,3)   0.892780  0.782013  0.875481  0.821056\n",
       "2           n-gramms (1,4)    0.892198  0.773682  0.872747  0.814260\n",
       "3            n-gramms (1,5)   0.892474  0.769994  0.871668  0.811352\n",
       "4            n-gramms (1,6)   0.892020  0.767287  0.871091  0.808967\n",
       "5              bag of words   0.869392  0.844369  0.886112  0.855720\n",
       "6              n-char (2,8)   0.866163  0.819089  0.873209  0.838977\n",
       "7              n-char (2,9)   0.869637  0.806701  0.871553  0.832170\n",
       "8             n-char (2,10)   0.872486  0.797755  0.870397  0.827045\n",
       "9              n-char (3,8)   0.863365  0.826385  0.874365  0.842496\n",
       "10             n-char (3,9)   0.866277  0.816941  0.873016  0.837856\n",
       "11            n-char (3,10)   0.869061  0.808689  0.872131  0.833531\n",
       "12             n-char (4,8)   0.859262  0.830552  0.874827  0.843430\n",
       "13             n-char (4,9)   0.863322  0.821256  0.873825  0.839501\n",
       "14            n-char (4,10)   0.864270  0.816462  0.872593  0.836949\n",
       "15  tf-idf, (1, 3), 0.75, 3   0.885855  0.757109  0.865737  0.797683\n",
       "16  tf-idf, (1, 3), 0.75, 4   0.884809  0.771036  0.867778  0.809506\n",
       "17  tf-idf, (1, 3), 0.75, 5   0.882150  0.777983  0.868780  0.814731\n",
       "18  tf-idf, (1, 3), 0.85, 3   0.885855  0.757109  0.865737  0.797683\n",
       "19  tf-idf, (1, 3), 0.85, 4   0.884809  0.771036  0.867778  0.809506\n",
       "20  tf-idf, (1, 3), 0.85, 5   0.882150  0.777983  0.868780  0.814731\n",
       "21  tf-idf, (1, 3), 0.95, 3   0.885855  0.757109  0.865737  0.797683\n",
       "22  tf-idf, (1, 3), 0.95, 4   0.884809  0.771036  0.867778  0.809506\n",
       "23  tf-idf, (1, 3), 0.95, 5   0.882150  0.777983  0.868780  0.814731\n",
       "24  tf-idf, (1, 4), 0.75, 3   0.885651  0.756378  0.865506  0.796997\n",
       "25  tf-idf, (1, 4), 0.75, 4   0.884666  0.770153  0.867663  0.808714\n",
       "26  tf-idf, (1, 4), 0.75, 5   0.882131  0.777932  0.868741  0.814696\n",
       "27  tf-idf, (1, 4), 0.85, 3   0.885651  0.756378  0.865506  0.796997\n",
       "28  tf-idf, (1, 4), 0.85, 4   0.884666  0.770153  0.867663  0.808714\n",
       "29  tf-idf, (1, 4), 0.85, 5   0.882131  0.777932  0.868741  0.814696\n",
       "30  tf-idf, (1, 4), 0.95, 3   0.885651  0.756378  0.865506  0.796997\n",
       "31  tf-idf, (1, 4), 0.95, 4   0.884666  0.770153  0.867663  0.808714\n",
       "32  tf-idf, (1, 4), 0.95, 5   0.882131  0.777932  0.868741  0.814696\n",
       "33  tf-idf, (1, 5), 0.75, 3   0.885651  0.756378  0.865506  0.796997\n",
       "34  tf-idf, (1, 5), 0.75, 4   0.884666  0.770153  0.867663  0.808714\n",
       "35  tf-idf, (1, 5), 0.75, 5   0.882359  0.777932  0.868741  0.814756\n",
       "36  tf-idf, (1, 5), 0.85, 3   0.885651  0.756378  0.865506  0.796997\n",
       "37  tf-idf, (1, 5), 0.85, 4   0.884666  0.770153  0.867663  0.808714\n",
       "38  tf-idf, (1, 5), 0.85, 5   0.882359  0.777932  0.868741  0.814756\n",
       "39  tf-idf, (1, 5), 0.95, 3   0.885651  0.756378  0.865506  0.796997\n",
       "40  tf-idf, (1, 5), 0.95, 4   0.884666  0.770153  0.867663  0.808714\n",
       "41  tf-idf, (1, 5), 0.95, 5   0.882359  0.777932  0.868741  0.814756"
      ]
     },
     "execution_count": 95,
     "metadata": {},
     "output_type": "execute_result"
    }
   ],
   "source": [
    "vctrz = pd.DataFrame.from_dict(vectorizers)\n",
    "vctrz"
   ]
  },
  {
   "cell_type": "markdown",
   "metadata": {},
   "source": [
    "# Какой векторайзер дает наилучший результат?"
   ]
  },
  {
   "cell_type": "markdown",
   "metadata": {},
   "source": [
    "### Precision (точность)"
   ]
  },
  {
   "cell_type": "markdown",
   "metadata": {},
   "source": [
    "Точность системы в пределах класса – это доля документов действительно принадлежащих данному классу относительно всех документов которые система отнесла к этому классу. "
   ]
  },
  {
   "cell_type": "code",
   "execution_count": 96,
   "metadata": {},
   "outputs": [
    {
     "data": {
      "text/html": [
       "<div>\n",
       "<style scoped>\n",
       "    .dataframe tbody tr th:only-of-type {\n",
       "        vertical-align: middle;\n",
       "    }\n",
       "\n",
       "    .dataframe tbody tr th {\n",
       "        vertical-align: top;\n",
       "    }\n",
       "\n",
       "    .dataframe thead th {\n",
       "        text-align: right;\n",
       "    }\n",
       "</style>\n",
       "<table border=\"1\" class=\"dataframe\">\n",
       "  <thead>\n",
       "    <tr style=\"text-align: right;\">\n",
       "      <th></th>\n",
       "      <th>vectorizer</th>\n",
       "      <th>precision</th>\n",
       "      <th>recall</th>\n",
       "      <th>accuracy</th>\n",
       "      <th>f_1</th>\n",
       "    </tr>\n",
       "  </thead>\n",
       "  <tbody>\n",
       "    <tr>\n",
       "      <th>0</th>\n",
       "      <td>n-gramms (1,2)</td>\n",
       "      <td>0.892957</td>\n",
       "      <td>0.797901</td>\n",
       "      <td>0.879911</td>\n",
       "      <td>0.833219</td>\n",
       "    </tr>\n",
       "    <tr>\n",
       "      <th>1</th>\n",
       "      <td>n-gramms (1,3)</td>\n",
       "      <td>0.892780</td>\n",
       "      <td>0.782013</td>\n",
       "      <td>0.875481</td>\n",
       "      <td>0.821056</td>\n",
       "    </tr>\n",
       "    <tr>\n",
       "      <th>3</th>\n",
       "      <td>n-gramms (1,5)</td>\n",
       "      <td>0.892474</td>\n",
       "      <td>0.769994</td>\n",
       "      <td>0.871668</td>\n",
       "      <td>0.811352</td>\n",
       "    </tr>\n",
       "    <tr>\n",
       "      <th>2</th>\n",
       "      <td>n-gramms (1,4)</td>\n",
       "      <td>0.892198</td>\n",
       "      <td>0.773682</td>\n",
       "      <td>0.872747</td>\n",
       "      <td>0.814260</td>\n",
       "    </tr>\n",
       "    <tr>\n",
       "      <th>4</th>\n",
       "      <td>n-gramms (1,6)</td>\n",
       "      <td>0.892020</td>\n",
       "      <td>0.767287</td>\n",
       "      <td>0.871091</td>\n",
       "      <td>0.808967</td>\n",
       "    </tr>\n",
       "  </tbody>\n",
       "</table>\n",
       "</div>"
      ],
      "text/plain": [
       "        vectorizer  precision    recall  accuracy       f_1\n",
       "0   n-gramms (1,2)   0.892957  0.797901  0.879911  0.833219\n",
       "1   n-gramms (1,3)   0.892780  0.782013  0.875481  0.821056\n",
       "3   n-gramms (1,5)   0.892474  0.769994  0.871668  0.811352\n",
       "2  n-gramms (1,4)    0.892198  0.773682  0.872747  0.814260\n",
       "4   n-gramms (1,6)   0.892020  0.767287  0.871091  0.808967"
      ]
     },
     "execution_count": 96,
     "metadata": {},
     "output_type": "execute_result"
    }
   ],
   "source": [
    "vctrz.sort_values(by = 'precision', ascending=False)[:5]"
   ]
  },
  {
   "cell_type": "markdown",
   "metadata": {},
   "source": [
    "Самым точным оказался n-gramms (1,2) векторайзер"
   ]
  },
  {
   "cell_type": "markdown",
   "metadata": {},
   "source": [
    "### Recall (полнота)"
   ]
  },
  {
   "cell_type": "markdown",
   "metadata": {},
   "source": [
    "Полнота системы – это доля найденных классфикатором документов принадлежащих классу относительно всех документов этого класса в тестовой выборке."
   ]
  },
  {
   "cell_type": "code",
   "execution_count": 97,
   "metadata": {},
   "outputs": [
    {
     "data": {
      "text/html": [
       "<div>\n",
       "<style scoped>\n",
       "    .dataframe tbody tr th:only-of-type {\n",
       "        vertical-align: middle;\n",
       "    }\n",
       "\n",
       "    .dataframe tbody tr th {\n",
       "        vertical-align: top;\n",
       "    }\n",
       "\n",
       "    .dataframe thead th {\n",
       "        text-align: right;\n",
       "    }\n",
       "</style>\n",
       "<table border=\"1\" class=\"dataframe\">\n",
       "  <thead>\n",
       "    <tr style=\"text-align: right;\">\n",
       "      <th></th>\n",
       "      <th>vectorizer</th>\n",
       "      <th>precision</th>\n",
       "      <th>recall</th>\n",
       "      <th>accuracy</th>\n",
       "      <th>f_1</th>\n",
       "    </tr>\n",
       "  </thead>\n",
       "  <tbody>\n",
       "    <tr>\n",
       "      <th>5</th>\n",
       "      <td>bag of words</td>\n",
       "      <td>0.869392</td>\n",
       "      <td>0.844369</td>\n",
       "      <td>0.886112</td>\n",
       "      <td>0.855720</td>\n",
       "    </tr>\n",
       "    <tr>\n",
       "      <th>12</th>\n",
       "      <td>n-char (4,8)</td>\n",
       "      <td>0.859262</td>\n",
       "      <td>0.830552</td>\n",
       "      <td>0.874827</td>\n",
       "      <td>0.843430</td>\n",
       "    </tr>\n",
       "    <tr>\n",
       "      <th>9</th>\n",
       "      <td>n-char (3,8)</td>\n",
       "      <td>0.863365</td>\n",
       "      <td>0.826385</td>\n",
       "      <td>0.874365</td>\n",
       "      <td>0.842496</td>\n",
       "    </tr>\n",
       "    <tr>\n",
       "      <th>13</th>\n",
       "      <td>n-char (4,9)</td>\n",
       "      <td>0.863322</td>\n",
       "      <td>0.821256</td>\n",
       "      <td>0.873825</td>\n",
       "      <td>0.839501</td>\n",
       "    </tr>\n",
       "    <tr>\n",
       "      <th>6</th>\n",
       "      <td>n-char (2,8)</td>\n",
       "      <td>0.866163</td>\n",
       "      <td>0.819089</td>\n",
       "      <td>0.873209</td>\n",
       "      <td>0.838977</td>\n",
       "    </tr>\n",
       "  </tbody>\n",
       "</table>\n",
       "</div>"
      ],
      "text/plain": [
       "      vectorizer  precision    recall  accuracy       f_1\n",
       "5   bag of words   0.869392  0.844369  0.886112  0.855720\n",
       "12  n-char (4,8)   0.859262  0.830552  0.874827  0.843430\n",
       "9   n-char (3,8)   0.863365  0.826385  0.874365  0.842496\n",
       "13  n-char (4,9)   0.863322  0.821256  0.873825  0.839501\n",
       "6   n-char (2,8)   0.866163  0.819089  0.873209  0.838977"
      ]
     },
     "execution_count": 97,
     "metadata": {},
     "output_type": "execute_result"
    }
   ],
   "source": [
    "vctrz.sort_values(by = 'recall', ascending=False)[:5]"
   ]
  },
  {
   "cell_type": "markdown",
   "metadata": {},
   "source": [
    "Значение по полноте выше у  векторайзера 'Мешок слов'"
   ]
  },
  {
   "cell_type": "markdown",
   "metadata": {},
   "source": [
    "### Accuracy (доля документов по которым классификатор принял правильное решение)"
   ]
  },
  {
   "cell_type": "code",
   "execution_count": 98,
   "metadata": {},
   "outputs": [
    {
     "data": {
      "text/html": [
       "<div>\n",
       "<style scoped>\n",
       "    .dataframe tbody tr th:only-of-type {\n",
       "        vertical-align: middle;\n",
       "    }\n",
       "\n",
       "    .dataframe tbody tr th {\n",
       "        vertical-align: top;\n",
       "    }\n",
       "\n",
       "    .dataframe thead th {\n",
       "        text-align: right;\n",
       "    }\n",
       "</style>\n",
       "<table border=\"1\" class=\"dataframe\">\n",
       "  <thead>\n",
       "    <tr style=\"text-align: right;\">\n",
       "      <th></th>\n",
       "      <th>vectorizer</th>\n",
       "      <th>precision</th>\n",
       "      <th>recall</th>\n",
       "      <th>accuracy</th>\n",
       "      <th>f_1</th>\n",
       "    </tr>\n",
       "  </thead>\n",
       "  <tbody>\n",
       "    <tr>\n",
       "      <th>5</th>\n",
       "      <td>bag of words</td>\n",
       "      <td>0.869392</td>\n",
       "      <td>0.844369</td>\n",
       "      <td>0.886112</td>\n",
       "      <td>0.855720</td>\n",
       "    </tr>\n",
       "    <tr>\n",
       "      <th>0</th>\n",
       "      <td>n-gramms (1,2)</td>\n",
       "      <td>0.892957</td>\n",
       "      <td>0.797901</td>\n",
       "      <td>0.879911</td>\n",
       "      <td>0.833219</td>\n",
       "    </tr>\n",
       "    <tr>\n",
       "      <th>1</th>\n",
       "      <td>n-gramms (1,3)</td>\n",
       "      <td>0.892780</td>\n",
       "      <td>0.782013</td>\n",
       "      <td>0.875481</td>\n",
       "      <td>0.821056</td>\n",
       "    </tr>\n",
       "    <tr>\n",
       "      <th>12</th>\n",
       "      <td>n-char (4,8)</td>\n",
       "      <td>0.859262</td>\n",
       "      <td>0.830552</td>\n",
       "      <td>0.874827</td>\n",
       "      <td>0.843430</td>\n",
       "    </tr>\n",
       "    <tr>\n",
       "      <th>9</th>\n",
       "      <td>n-char (3,8)</td>\n",
       "      <td>0.863365</td>\n",
       "      <td>0.826385</td>\n",
       "      <td>0.874365</td>\n",
       "      <td>0.842496</td>\n",
       "    </tr>\n",
       "  </tbody>\n",
       "</table>\n",
       "</div>"
      ],
      "text/plain": [
       "        vectorizer  precision    recall  accuracy       f_1\n",
       "5     bag of words   0.869392  0.844369  0.886112  0.855720\n",
       "0   n-gramms (1,2)   0.892957  0.797901  0.879911  0.833219\n",
       "1   n-gramms (1,3)   0.892780  0.782013  0.875481  0.821056\n",
       "12    n-char (4,8)   0.859262  0.830552  0.874827  0.843430\n",
       "9     n-char (3,8)   0.863365  0.826385  0.874365  0.842496"
      ]
     },
     "execution_count": 98,
     "metadata": {},
     "output_type": "execute_result"
    }
   ],
   "source": [
    "vctrz.sort_values(by = 'accuracy', ascending=False)[:5]"
   ]
  },
  {
   "cell_type": "markdown",
   "metadata": {},
   "source": [
    "Более высокая точность у Мешка слов"
   ]
  },
  {
   "cell_type": "markdown",
   "metadata": {},
   "source": [
    "### F мера "
   ]
  },
  {
   "cell_type": "markdown",
   "metadata": {},
   "source": [
    "F-мера представляет собой гармоническое среднее между точностью и полнотой. Она стремится к нулю, если точность или полнота стремится к нулю.\n",
    "\n"
   ]
  },
  {
   "cell_type": "code",
   "execution_count": 99,
   "metadata": {},
   "outputs": [
    {
     "data": {
      "text/html": [
       "<div>\n",
       "<style scoped>\n",
       "    .dataframe tbody tr th:only-of-type {\n",
       "        vertical-align: middle;\n",
       "    }\n",
       "\n",
       "    .dataframe tbody tr th {\n",
       "        vertical-align: top;\n",
       "    }\n",
       "\n",
       "    .dataframe thead th {\n",
       "        text-align: right;\n",
       "    }\n",
       "</style>\n",
       "<table border=\"1\" class=\"dataframe\">\n",
       "  <thead>\n",
       "    <tr style=\"text-align: right;\">\n",
       "      <th></th>\n",
       "      <th>vectorizer</th>\n",
       "      <th>precision</th>\n",
       "      <th>recall</th>\n",
       "      <th>accuracy</th>\n",
       "      <th>f_1</th>\n",
       "    </tr>\n",
       "  </thead>\n",
       "  <tbody>\n",
       "    <tr>\n",
       "      <th>5</th>\n",
       "      <td>bag of words</td>\n",
       "      <td>0.869392</td>\n",
       "      <td>0.844369</td>\n",
       "      <td>0.886112</td>\n",
       "      <td>0.855720</td>\n",
       "    </tr>\n",
       "    <tr>\n",
       "      <th>12</th>\n",
       "      <td>n-char (4,8)</td>\n",
       "      <td>0.859262</td>\n",
       "      <td>0.830552</td>\n",
       "      <td>0.874827</td>\n",
       "      <td>0.843430</td>\n",
       "    </tr>\n",
       "    <tr>\n",
       "      <th>9</th>\n",
       "      <td>n-char (3,8)</td>\n",
       "      <td>0.863365</td>\n",
       "      <td>0.826385</td>\n",
       "      <td>0.874365</td>\n",
       "      <td>0.842496</td>\n",
       "    </tr>\n",
       "    <tr>\n",
       "      <th>13</th>\n",
       "      <td>n-char (4,9)</td>\n",
       "      <td>0.863322</td>\n",
       "      <td>0.821256</td>\n",
       "      <td>0.873825</td>\n",
       "      <td>0.839501</td>\n",
       "    </tr>\n",
       "    <tr>\n",
       "      <th>6</th>\n",
       "      <td>n-char (2,8)</td>\n",
       "      <td>0.866163</td>\n",
       "      <td>0.819089</td>\n",
       "      <td>0.873209</td>\n",
       "      <td>0.838977</td>\n",
       "    </tr>\n",
       "  </tbody>\n",
       "</table>\n",
       "</div>"
      ],
      "text/plain": [
       "      vectorizer  precision    recall  accuracy       f_1\n",
       "5   bag of words   0.869392  0.844369  0.886112  0.855720\n",
       "12  n-char (4,8)   0.859262  0.830552  0.874827  0.843430\n",
       "9   n-char (3,8)   0.863365  0.826385  0.874365  0.842496\n",
       "13  n-char (4,9)   0.863322  0.821256  0.873825  0.839501\n",
       "6   n-char (2,8)   0.866163  0.819089  0.873209  0.838977"
      ]
     },
     "execution_count": 99,
     "metadata": {},
     "output_type": "execute_result"
    }
   ],
   "source": [
    "vctrz.sort_values(by = 'f_1', ascending=False)[:5]"
   ]
  },
  {
   "cell_type": "markdown",
   "metadata": {},
   "source": [
    "F-мера выше у векторайзера \"Мешок слов\""
   ]
  },
  {
   "cell_type": "markdown",
   "metadata": {},
   "source": [
    "#### В большинстве случаев лучший результат достигается при использовании векторайзера \"Мешок слов\""
   ]
  }
 ],
 "metadata": {
  "kernelspec": {
   "display_name": "Python 3",
   "language": "python",
   "name": "python3"
  },
  "language_info": {
   "codemirror_mode": {
    "name": "ipython",
    "version": 3
   },
   "file_extension": ".py",
   "mimetype": "text/x-python",
   "name": "python",
   "nbconvert_exporter": "python",
   "pygments_lexer": "ipython3",
   "version": "3.8.5"
  }
 },
 "nbformat": 4,
 "nbformat_minor": 4
}
