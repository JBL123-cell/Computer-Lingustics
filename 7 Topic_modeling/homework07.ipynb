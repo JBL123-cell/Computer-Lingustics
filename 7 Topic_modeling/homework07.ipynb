{
 "cells": [
  {
   "cell_type": "code",
   "execution_count": 518,
   "metadata": {},
   "outputs": [],
   "source": [
    "import pandas as pd\n",
    "from nltk.tokenize import word_tokenize\n",
    "import string"
   ]
  },
  {
   "cell_type": "code",
   "execution_count": 519,
   "metadata": {},
   "outputs": [],
   "source": [
    "new_corpus = pd.read_csv('texts.csv', encoding='utf-8')"
   ]
  },
  {
   "cell_type": "code",
   "execution_count": 520,
   "metadata": {},
   "outputs": [
    {
     "data": {
      "text/html": [
       "<div>\n",
       "<style scoped>\n",
       "    .dataframe tbody tr th:only-of-type {\n",
       "        vertical-align: middle;\n",
       "    }\n",
       "\n",
       "    .dataframe tbody tr th {\n",
       "        vertical-align: top;\n",
       "    }\n",
       "\n",
       "    .dataframe thead th {\n",
       "        text-align: right;\n",
       "    }\n",
       "</style>\n",
       "<table border=\"1\" class=\"dataframe\">\n",
       "  <thead>\n",
       "    <tr style=\"text-align: right;\">\n",
       "      <th></th>\n",
       "      <th>text</th>\n",
       "    </tr>\n",
       "  </thead>\n",
       "  <tbody>\n",
       "    <tr>\n",
       "      <th>0</th>\n",
       "      <td>В 1930-е годы Советский Союз охватила лихорадк...</td>\n",
       "    </tr>\n",
       "    <tr>\n",
       "      <th>1</th>\n",
       "      <td>Олимпийская чемпионка по фигурному катанию  Ал...</td>\n",
       "    </tr>\n",
       "    <tr>\n",
       "      <th>2</th>\n",
       "      <td>Российский врач-диетолог Римма Мойсенко объясн...</td>\n",
       "    </tr>\n",
       "    <tr>\n",
       "      <th>3</th>\n",
       "      <td>В 2019 году телеканал «Ю» запустил адаптацию з...</td>\n",
       "    </tr>\n",
       "    <tr>\n",
       "      <th>4</th>\n",
       "      <td>Актер  Михаил Ефремов  систематически употребл...</td>\n",
       "    </tr>\n",
       "  </tbody>\n",
       "</table>\n",
       "</div>"
      ],
      "text/plain": [
       "                                                text\n",
       "0  В 1930-е годы Советский Союз охватила лихорадк...\n",
       "1  Олимпийская чемпионка по фигурному катанию  Ал...\n",
       "2  Российский врач-диетолог Римма Мойсенко объясн...\n",
       "3  В 2019 году телеканал «Ю» запустил адаптацию з...\n",
       "4  Актер  Михаил Ефремов  систематически употребл..."
      ]
     },
     "execution_count": 520,
     "metadata": {},
     "output_type": "execute_result"
    }
   ],
   "source": [
    "new_corpus.head()"
   ]
  },
  {
   "cell_type": "markdown",
   "metadata": {},
   "source": [
    "Данный корпус содержит тексты статей из новостного сайта lenta.ru. Датасет содержит 5001 запись"
   ]
  },
  {
   "cell_type": "code",
   "execution_count": 521,
   "metadata": {},
   "outputs": [
    {
     "name": "stdout",
     "output_type": "stream",
     "text": [
      "Количество строк: 5001\n",
      "Суммарное количество слов по всем статьям: 1026536\n",
      "Среднее количество слов на одну статью: 205.26614677064586\n",
      "Медиана количества слов на одну статью: 160\n"
     ]
    }
   ],
   "source": [
    "from statistics import median\n",
    "text_of_all_news = []\n",
    "for t in new_corpus['text']:\n",
    "    text_of_all_news.append(t)\n",
    "a = 0\n",
    "for st in text_of_all_news:\n",
    "    a += int(len(st.split()))\n",
    "aver_words = a/new_corpus.shape[0]\n",
    "med = []\n",
    "for t in new_corpus['text']:\n",
    "    med.append(int(len(t.split())))\n",
    "med = median(med)\n",
    "print('Количество строк: {}'.format(new_corpus.shape[0]))\n",
    "print('Суммарное количество слов по всем статьям: {}'.format(a))\n",
    "print('Среднее количество слов на одну статью: {}'.format(aver_words))\n",
    "print('Медиана количества слов на одну статью: {}'.format(med))"
   ]
  },
  {
   "cell_type": "markdown",
   "metadata": {},
   "source": [
    "### Предобработка корпуса"
   ]
  },
  {
   "cell_type": "code",
   "execution_count": 718,
   "metadata": {},
   "outputs": [
    {
     "name": "stderr",
     "output_type": "stream",
     "text": [
      "[nltk_data] Downloading package punkt to\n",
      "[nltk_data]     C:\\Users\\redic\\AppData\\Roaming\\nltk_data...\n",
      "[nltk_data]   Package punkt is already up-to-date!\n",
      "[nltk_data] Downloading package stopwords to\n",
      "[nltk_data]     C:\\Users\\redic\\AppData\\Roaming\\nltk_data...\n",
      "[nltk_data]   Package stopwords is already up-to-date!\n"
     ]
    }
   ],
   "source": [
    "import re\n",
    "import nltk\n",
    "nltk.download('punkt')\n",
    "nltk.download('stopwords')\n",
    "punct = string.punctuation + \"—\" + \"«\" + \"»\"\n",
    "from nltk.corpus import stopwords\n",
    "stopwords_list = stopwords.words(\"russian\") + [\"это\", \"который\", \"наш\", \n",
    "                                            \"такой\", \"свой\", \"один\", \"другой\", \"всё\", \"все\", \"весь\", \"очень\", \"нужно\",\n",
    "                                            \"каждый\", \"её\",\"его\", \"ранее\", \"мочь\", \n",
    "                                            \"стать\", \"больший\", \"ваше\", \"самый\", \"понять\",\n",
    "                                            \"ещё\", \"также\", \"например\", \"тот\", \"быть\"]"
   ]
  },
  {
   "cell_type": "markdown",
   "metadata": {},
   "source": [
    "Напишем функцию, которая убирает все ненужные символы, оставляет только буквы, избавляется от местоимений-существительный, предлогов, союзов, частиц и междометий и приводит оставшиеся слова к начальной форме."
   ]
  },
  {
   "cell_type": "code",
   "execution_count": 719,
   "metadata": {},
   "outputs": [],
   "source": [
    "news = new_corpus['text'].to_list()"
   ]
  },
  {
   "cell_type": "code",
   "execution_count": 720,
   "metadata": {},
   "outputs": [],
   "source": [
    "def _change(list_of_texts):\n",
    "    for i in range(len(list_of_texts)):\n",
    "        list_of_texts[i] = re.sub(r\"[^а-яА-Я]\",' ', list_of_texts[i])\n",
    "        list_of_texts[i] = re.sub(r\"\\xa0\",' ', list_of_texts[i])\n",
    "        tokens = word_tokenize(list_of_texts[i])    \n",
    "        tokens = [token.lower() for token in tokens if token not in stopwords_list]\n",
    "        list_of_texts[i] = [word for word in tokens if word not in stopwords_list]\n",
    "    return list_of_texts\n",
    "\n",
    "def _speech(list_of_texts):\n",
    "    all_lemma = []\n",
    "    for i in range(len(list_of_texts)):\n",
    "        one_lemma = []\n",
    "        for word in list_of_texts[i]:\n",
    "            if analyzer.parse(word)[0].tag.POS not in ('NPRO', 'PREP', 'CONJ', 'PRCL', 'INTJ'): \n",
    "                if analyzer.parse(word)[0].normal_form not in stopwords_list:\n",
    "                    one_lemma.append(analyzer.parse(word)[0].normal_form)\n",
    "        all_lemma.append(one_lemma)\n",
    "    return all_lemma"
   ]
  },
  {
   "cell_type": "markdown",
   "metadata": {},
   "source": [
    "## Обучим модель"
   ]
  },
  {
   "cell_type": "markdown",
   "metadata": {},
   "source": [
    "Подготовим первый корпус к обучению"
   ]
  },
  {
   "cell_type": "code",
   "execution_count": 721,
   "metadata": {},
   "outputs": [],
   "source": [
    "first_corpus_1 = _change(news)\n",
    "first_corpus = _speech(first_corpus_1)"
   ]
  },
  {
   "cell_type": "code",
   "execution_count": 722,
   "metadata": {},
   "outputs": [
    {
     "data": {
      "text/plain": [
       "['российский',\n",
       " 'врач',\n",
       " 'диетолог',\n",
       " 'римма',\n",
       " 'мойсенко',\n",
       " 'объяснить',\n",
       " 'почему',\n",
       " 'однообразный',\n",
       " 'питание',\n",
       " 'вредить',\n",
       " 'организм',\n",
       " 'слово',\n",
       " 'приводить',\n",
       " 'издание',\n",
       " 'эксперт',\n",
       " 'предупреждать',\n",
       " 'продукт',\n",
       " 'день',\n",
       " 'подряд',\n",
       " 'опасно',\n",
       " 'здоровье',\n",
       " 'третий',\n",
       " 'день',\n",
       " 'употребление',\n",
       " 'продукт',\n",
       " 'особенно',\n",
       " 'насыщенный',\n",
       " 'белок',\n",
       " 'иммунный',\n",
       " 'система',\n",
       " 'происходить',\n",
       " 'сбой',\n",
       " 'образоваться',\n",
       " 'иммунный',\n",
       " 'комплекс',\n",
       " 'тормозить',\n",
       " 'образование',\n",
       " 'фермент',\n",
       " 'пояснить',\n",
       " 'мойсенко',\n",
       " 'слово',\n",
       " 'диетолог',\n",
       " 'разнообразный',\n",
       " 'питание',\n",
       " 'благоприятно',\n",
       " 'влиять',\n",
       " 'микробиота',\n",
       " 'помогать',\n",
       " 'максимально',\n",
       " 'усваивать',\n",
       " 'продукт',\n",
       " 'полезный',\n",
       " 'вещество',\n",
       " 'пищевой',\n",
       " 'поведение',\n",
       " 'нарушить',\n",
       " 'человек',\n",
       " 'толстеть',\n",
       " 'соблюдение',\n",
       " 'сбалансированный',\n",
       " 'питание',\n",
       " 'мойсенко',\n",
       " 'напомнить',\n",
       " 'регулярно',\n",
       " 'медленно',\n",
       " 'запивать',\n",
       " 'пища',\n",
       " 'вода',\n",
       " 'автор',\n",
       " 'книга',\n",
       " 'похудение',\n",
       " 'кетодиета',\n",
       " 'жир',\n",
       " 'доктор',\n",
       " 'медицинский',\n",
       " 'наука',\n",
       " 'василий',\n",
       " 'генерал',\n",
       " 'назвать',\n",
       " 'способ',\n",
       " 'маленький',\n",
       " 'мнение',\n",
       " 'эксперт',\n",
       " 'полностью',\n",
       " 'отказаться',\n",
       " 'полуфабрикат',\n",
       " 'фастфуд',\n",
       " 'перейти',\n",
       " 'здоровый',\n",
       " 'пища',\n",
       " 'питаться',\n",
       " 'натуральный',\n",
       " 'продукт']"
      ]
     },
     "execution_count": 722,
     "metadata": {},
     "output_type": "execute_result"
    }
   ],
   "source": [
    "first_corpus[2]"
   ]
  },
  {
   "cell_type": "code",
   "execution_count": 723,
   "metadata": {},
   "outputs": [],
   "source": [
    "import gensim \n",
    "from gensim.models import word2vec\n",
    "from gensim.models import Word2Vec"
   ]
  },
  {
   "cell_type": "code",
   "execution_count": 758,
   "metadata": {},
   "outputs": [],
   "source": [
    "model_en = word2vec.Word2Vec(first_corpus, vector_size=100, window=10, min_count=5, workers=4)"
   ]
  },
  {
   "cell_type": "code",
   "execution_count": 759,
   "metadata": {},
   "outputs": [
    {
     "name": "stdout",
     "output_type": "stream",
     "text": [
      "11840\n"
     ]
    }
   ],
   "source": [
    "print(len(model_en.wv.index_to_key))"
   ]
  },
  {
   "cell_type": "code",
   "execution_count": 791,
   "metadata": {},
   "outputs": [
    {
     "name": "stdout",
     "output_type": "stream",
     "text": [
      "[('отрасль', 0.9450359344482422), ('снижение', 0.9434967041015625), ('сокращение', 0.9392783641815186)]\n",
      "[('жертва', 0.8568994402885437), ('пожилой', 0.8424401879310608), ('умирать', 0.8257160782814026)]\n",
      "[('сериал', 0.9687299728393555), ('фильм', 0.9646493196487427), ('стиль', 0.9630046486854553)]\n",
      "[('политический', 0.9648329615592957), ('партия', 0.9364122152328491), ('политик', 0.9289891123771667)]\n",
      "[('средневековье', 0.96869295835495), ('глупость', 0.9643157720565796), ('учебник', 0.9632648229598999)]\n"
     ]
    }
   ],
   "source": [
    "print(model_en.wv.most_similar(\"экономика\", topn=3))\n",
    "print(model_en.wv.most_similar(\"человек\", topn=3))\n",
    "print(model_en.wv.most_similar(\"шоу\", topn=3))\n",
    "print(model_en.wv.most_similar(\"политика\", topn=3))\n",
    "print(model_en.wv.most_similar(\"зло\", topn=3))"
   ]
  },
  {
   "cell_type": "code",
   "execution_count": 792,
   "metadata": {},
   "outputs": [
    {
     "name": "stdout",
     "output_type": "stream",
     "text": [
      "взлёт\n"
     ]
    }
   ],
   "source": [
    "print(model_en.wv.most_similar(positive=[\"самолёт\", \"путешествие\"], topn=1)[0][0])"
   ]
  },
  {
   "cell_type": "code",
   "execution_count": 793,
   "metadata": {},
   "outputs": [
    {
     "name": "stdout",
     "output_type": "stream",
     "text": [
      "франция\n"
     ]
    }
   ],
   "source": [
    "print(model_en.wv.most_similar(positive=[\"мир\", \"страна\"], topn=1)[0][0])"
   ]
  },
  {
   "cell_type": "code",
   "execution_count": 794,
   "metadata": {},
   "outputs": [
    {
     "name": "stdout",
     "output_type": "stream",
     "text": [
      "змея\n"
     ]
    }
   ],
   "source": [
    "print(model_en.wv.most_similar(positive=[\"животное\", \"зоопарк\"], topn=1)[0][0])"
   ]
  },
  {
   "cell_type": "code",
   "execution_count": 795,
   "metadata": {},
   "outputs": [
    {
     "data": {
      "text/plain": [
       "0.4129651"
      ]
     },
     "execution_count": 795,
     "metadata": {},
     "output_type": "execute_result"
    }
   ],
   "source": [
    "model_en.wv.similarity('мир', 'земля')"
   ]
  },
  {
   "cell_type": "markdown",
   "metadata": {},
   "source": [
    "## Дообучаем модель"
   ]
  },
  {
   "cell_type": "markdown",
   "metadata": {},
   "source": [
    "Подготавливаем к обучению второй корпус, содержащий названия статей по таким темам как 'Интернет и СМИ', 'Путешествия', 'Из жизни'."
   ]
  },
  {
   "cell_type": "code",
   "execution_count": 765,
   "metadata": {},
   "outputs": [],
   "source": [
    "another_corpus = pd.read_csv('Russia_news.csv', encoding='utf-8')"
   ]
  },
  {
   "cell_type": "code",
   "execution_count": 766,
   "metadata": {},
   "outputs": [
    {
     "data": {
      "text/html": [
       "<div>\n",
       "<style scoped>\n",
       "    .dataframe tbody tr th:only-of-type {\n",
       "        vertical-align: middle;\n",
       "    }\n",
       "\n",
       "    .dataframe tbody tr th {\n",
       "        vertical-align: top;\n",
       "    }\n",
       "\n",
       "    .dataframe thead th {\n",
       "        text-align: right;\n",
       "    }\n",
       "</style>\n",
       "<table border=\"1\" class=\"dataframe\">\n",
       "  <thead>\n",
       "    <tr style=\"text-align: right;\">\n",
       "      <th></th>\n",
       "      <th>title</th>\n",
       "      <th>topic</th>\n",
       "    </tr>\n",
       "  </thead>\n",
       "  <tbody>\n",
       "    <tr>\n",
       "      <th>0</th>\n",
       "      <td>Microsoft обвиняется в подсуживании в пользу К...</td>\n",
       "      <td>Интернет и СМИ</td>\n",
       "    </tr>\n",
       "    <tr>\n",
       "      <th>1</th>\n",
       "      <td>Сайт кандидата в президенты США был взломан на...</td>\n",
       "      <td>Интернет и СМИ</td>\n",
       "    </tr>\n",
       "    <tr>\n",
       "      <th>2</th>\n",
       "      <td>ФБР выпустит предупреждение-2000 для правоохра...</td>\n",
       "      <td>Интернет и СМИ</td>\n",
       "    </tr>\n",
       "    <tr>\n",
       "      <th>3</th>\n",
       "      <td>Треть российских компьютерных систем не готова...</td>\n",
       "      <td>Интернет и СМИ</td>\n",
       "    </tr>\n",
       "    <tr>\n",
       "      <th>4</th>\n",
       "      <td>Интернет скоро похоронит бумажные письма</td>\n",
       "      <td>Интернет и СМИ</td>\n",
       "    </tr>\n",
       "  </tbody>\n",
       "</table>\n",
       "</div>"
      ],
      "text/plain": [
       "                                               title           topic\n",
       "0  Microsoft обвиняется в подсуживании в пользу К...  Интернет и СМИ\n",
       "1  Сайт кандидата в президенты США был взломан на...  Интернет и СМИ\n",
       "2  ФБР выпустит предупреждение-2000 для правоохра...  Интернет и СМИ\n",
       "3  Треть российских компьютерных систем не готова...  Интернет и СМИ\n",
       "4           Интернет скоро похоронит бумажные письма  Интернет и СМИ"
      ]
     },
     "execution_count": 766,
     "metadata": {},
     "output_type": "execute_result"
    }
   ],
   "source": [
    "another_corpus.head()"
   ]
  },
  {
   "cell_type": "code",
   "execution_count": 733,
   "metadata": {},
   "outputs": [],
   "source": [
    "second_list = another_corpus['title'].to_list()"
   ]
  },
  {
   "cell_type": "code",
   "execution_count": 734,
   "metadata": {},
   "outputs": [],
   "source": [
    "second_corpus_1 = _change(second_list)\n",
    "second_corpus = _speech(second_list)"
   ]
  },
  {
   "cell_type": "code",
   "execution_count": 735,
   "metadata": {},
   "outputs": [
    {
     "data": {
      "text/plain": [
       "[['обвиняться', 'подсуживание', 'польза', 'каспаров'],\n",
       " ['сайт', 'кандидат', 'президент', 'сша', 'взломать', 'пять', 'минута'],\n",
       " ['фбр', 'выпустить', 'предупреждение', 'правоохранительный', 'орган'],\n",
       " ['треть', 'российский', 'компьютерный', 'система', 'готовый', 'год'],\n",
       " ['интернет', 'скоро', 'похоронить', 'бумажный', 'письмо'],\n",
       " ['центризбирком',\n",
       "  'решить',\n",
       "  'помочь',\n",
       "  'электронный',\n",
       "  'сми',\n",
       "  'освещать',\n",
       "  'выборы'],\n",
       " ['интернет', 'помнить', 'начинаться'],\n",
       " ['проблема', 'привести', 'химический', 'катастрофа'],\n",
       " ['неизвестный',\n",
       "  'хакер',\n",
       "  'взломать',\n",
       "  'компьютерный',\n",
       "  'сеть',\n",
       "  'защита',\n",
       "  'империя'],\n",
       " ['морской', 'пехота', 'бороться', 'червь']]"
      ]
     },
     "execution_count": 735,
     "metadata": {},
     "output_type": "execute_result"
    }
   ],
   "source": [
    "second_corpus[:10]"
   ]
  },
  {
   "cell_type": "code",
   "execution_count": 767,
   "metadata": {},
   "outputs": [
    {
     "name": "stdout",
     "output_type": "stream",
     "text": [
      "Saving model...\n"
     ]
    }
   ],
   "source": [
    "model_path = \"movie_reviews.model\"\n",
    "print(\"Saving model...\")\n",
    "model_en.save(model_path)"
   ]
  },
  {
   "cell_type": "code",
   "execution_count": 768,
   "metadata": {},
   "outputs": [],
   "source": [
    "model = word2vec.Word2Vec.load(model_path)"
   ]
  },
  {
   "cell_type": "code",
   "execution_count": 769,
   "metadata": {},
   "outputs": [
    {
     "data": {
      "text/plain": [
       "(2087084, 2264195)"
      ]
     },
     "execution_count": 769,
     "metadata": {},
     "output_type": "execute_result"
    }
   ],
   "source": [
    "model.build_vocab(second_corpus, update=True) \n",
    "model.train(second_corpus, total_examples=model.corpus_count, epochs=5)"
   ]
  },
  {
   "cell_type": "code",
   "execution_count": 770,
   "metadata": {},
   "outputs": [
    {
     "name": "stdout",
     "output_type": "stream",
     "text": [
      "[('отрасль', 0.9608207941055298), ('снижение', 0.937723696231842), ('сокращение', 0.9282024502754211)]\n",
      "[('опасный', 0.6137204766273499), ('перевалить', 0.6064729690551758), ('китаец', 0.6063274145126343)]\n",
      "[('телешоу', 0.9125816226005554), ('шлеменко', 0.9117814898490906), ('реалить', 0.9115563035011292)]\n",
      "[('политический', 0.9690498113632202), ('народ', 0.9116231799125671), ('выразить', 0.9103558659553528)]\n",
      "[('религия', 0.94338059425354), ('неуместный', 0.9332910776138306), ('замысел', 0.9327937960624695)]\n"
     ]
    }
   ],
   "source": [
    "print(model.wv.most_similar(\"экономика\", topn=3))\n",
    "print(model.wv.most_similar(\"человек\", topn=3))\n",
    "print(model.wv.most_similar(\"шоу\", topn=3))\n",
    "print(model.wv.most_similar(\"политика\", topn=3))\n",
    "print(model.wv.most_similar(\"зло\", topn=3))"
   ]
  },
  {
   "cell_type": "code",
   "execution_count": 771,
   "metadata": {},
   "outputs": [
    {
     "name": "stdout",
     "output_type": "stream",
     "text": [
      "[('круизный', 0.9095914363861084), ('взлёт', 0.8897702097892761), ('лететь', 0.8896412253379822), ('авиалайнер', 0.8890817761421204), ('конюх', 0.8873189687728882)]\n"
     ]
    }
   ],
   "source": [
    "print(model.wv.most_similar(positive=[\"самолёт\", \"путешествие\"], topn=5))"
   ]
  },
  {
   "cell_type": "code",
   "execution_count": 772,
   "metadata": {},
   "outputs": [
    {
     "name": "stdout",
     "output_type": "stream",
     "text": [
      "европа\n"
     ]
    }
   ],
   "source": [
    "print(model.wv.most_similar(positive=[\"мир\", \"страна\"], topn=1)[0][0])"
   ]
  },
  {
   "cell_type": "code",
   "execution_count": 773,
   "metadata": {},
   "outputs": [
    {
     "name": "stdout",
     "output_type": "stream",
     "text": [
      "кошка\n"
     ]
    }
   ],
   "source": [
    "print(model.wv.most_similar(positive=[\"животное\", \"зоопарк\"], topn=1)[0][0])"
   ]
  },
  {
   "cell_type": "code",
   "execution_count": 796,
   "metadata": {},
   "outputs": [
    {
     "data": {
      "text/plain": [
       "0.55804306"
      ]
     },
     "execution_count": 796,
     "metadata": {},
     "output_type": "execute_result"
    }
   ],
   "source": [
    "model.wv.similarity('мир', 'земля')"
   ]
  },
  {
   "cell_type": "markdown",
   "metadata": {},
   "source": [
    "### Cоставим словарь синонимов для наиболее частотных слов корпуса"
   ]
  },
  {
   "cell_type": "code",
   "execution_count": 775,
   "metadata": {},
   "outputs": [],
   "source": [
    "most_freq = model.wv.index_to_key[:50]"
   ]
  },
  {
   "cell_type": "code",
   "execution_count": 776,
   "metadata": {},
   "outputs": [],
   "source": [
    "dict_syn = {}\n",
    "synon = []\n",
    "for word in most_freq:\n",
    "    dict_need = []\n",
    "    i = 5\n",
    "    synonym = model.wv.most_similar(positive=[word], topn=i)\n",
    "    for j in range(5):\n",
    "        if (synonym[j-1][0] not in most_freq and synonym[j-1][0] not in synon):\n",
    "                dict_need.append(synonym[j-1])\n",
    "                synon.append(synonym[j-1][0])\n",
    "        else:\n",
    "            flag = True\n",
    "            while flag:\n",
    "                i += 1\n",
    "                synonym = model.wv.most_similar(positive=[word], topn=i)\n",
    "                if (synonym[i-1][0] not in most_freq and synonym[i-1][0] not in synon):\n",
    "                    dict_need.append(synonym[j-1])\n",
    "                    synon.append(synonym[j-1][0])\n",
    "                    flag = False           \n",
    "        dict_syn[word] = dict_need"
   ]
  },
  {
   "cell_type": "code",
   "execution_count": 778,
   "metadata": {},
   "outputs": [
    {
     "data": {
      "text/plain": [
       "{'год': [('октябрь', 0.5450462102890015),\n",
       "  ('месяц', 0.7210620045661926),\n",
       "  ('прошлое', 0.6141762137413025),\n",
       "  ('полгода', 0.6040939092636108),\n",
       "  ('срок', 0.5773062109947205)],\n",
       " 'россия': [('турция', 0.7032037973403931),\n",
       "  ('российский', 0.7732608914375305),\n",
       "  ('крым', 0.7656062841415405),\n",
       "  ('европейский', 0.7478435635566711),\n",
       "  ('страна', 0.7233790755271912)],\n",
       " 'человек': [('десятка', 0.5980625748634338),\n",
       "  ('опасный', 0.6137204766273499),\n",
       "  ('перевалить', 0.6064729690551758),\n",
       "  ('китаец', 0.6063274145126343),\n",
       "  ('смертельно', 0.6030400991439819)],\n",
       " 'коронавирус': [('гебреисус', 0.8066800236701965),\n",
       "  ('инфекция', 0.8752137422561646),\n",
       "  ('коронавирусный', 0.872992217540741),\n",
       "  ('воз', 0.8400510549545288),\n",
       "  ('внебольничный', 0.8282806277275085)],\n",
       " 'страна': [('франция', 0.7875500321388245),\n",
       "  ('европа', 0.8092947602272034),\n",
       "  ('турция', 0.8078528642654419),\n",
       "  ('азия', 0.8048226237297058),\n",
       "  ('восток', 0.7916008234024048)],\n",
       " 'время': [('прямой', 0.5826212763786316),\n",
       "  ('спокойный', 0.6212670207023621),\n",
       "  ('прервать', 0.6191466450691223),\n",
       "  ('погода', 0.6106044054031372),\n",
       "  ('момент', 0.6011824607849121)],\n",
       " 'слово': [('объяснить', 0.7307324409484863),\n",
       "  ('приводить', 0.8308118581771851),\n",
       "  ('познер', 0.7640348672866821),\n",
       "  ('сказать', 0.7621561288833618),\n",
       "  ('отметить', 0.7451205253601074)],\n",
       " 'тысяча': [('обойтись', 0.6780575513839722),\n",
       "  ('миллион', 0.9100297689437866),\n",
       "  ('полмиллиона', 0.9049100875854492),\n",
       "  ('полмиллиарда', 0.796578049659729),\n",
       "  ('миллиард', 0.6941413283348083)],\n",
       " 'заявить': [('передавать', 0.7944604158401489),\n",
       "  ('объяснить', 0.8284315466880798),\n",
       "  ('предупредить', 0.8178386092185974),\n",
       "  ('брифинг', 0.8175367712974548),\n",
       "  ('канцелярия', 0.7995295524597168)],\n",
       " 'российский': [('турецкий', 0.6197834014892578),\n",
       "  ('россия', 0.7732608318328857),\n",
       "  ('западный', 0.6490872502326965),\n",
       "  ('крым', 0.6280750036239624),\n",
       "  ('турция', 0.6231865882873535)],\n",
       " 'президент': [('госсекретарь', 0.7272819876670837),\n",
       "  ('канцлер', 0.7587802410125732),\n",
       "  ('посол', 0.7533003687858582),\n",
       "  ('лидер', 0.7513793110847473),\n",
       "  ('эрдоган', 0.7333931922912598)],\n",
       " 'новый': [('тестовый', 0.5814530849456787),\n",
       "  ('еженедельный', 0.6150039434432983),\n",
       "  ('бумажный', 0.5983490943908691),\n",
       "  ('бета', 0.5937876105308533),\n",
       "  ('обновиться', 0.5863765478134155)],\n",
       " 'москва': [('столичный', 0.7071508765220642),\n",
       "  ('петербург', 0.8259833455085754),\n",
       "  ('санкт', 0.7382175922393799),\n",
       "  ('май', 0.7191410064697266),\n",
       "  ('столица', 0.7081602215766907)],\n",
       " 'сша': [('корея', 0.7225401401519775),\n",
       "  ('американский', 0.762137770652771),\n",
       "  ('франция', 0.7517196536064148),\n",
       "  ('иран', 0.7431992888450623),\n",
       "  ('вашингтон', 0.7325363755226135)],\n",
       " 'сообщать': [('источник', 0.7390250563621521),\n",
       "  ('сообщить', 0.8514826893806458),\n",
       "  ('писать', 0.7661294937133789),\n",
       "  ('отмечать', 0.7418681979179382),\n",
       "  ('ссылка', 0.7405467629432678)],\n",
       " 'первый': [('канун', 0.6158246397972107),\n",
       "  ('пятый', 0.7787625789642334),\n",
       "  ('шестой', 0.7017890214920044),\n",
       "  ('второй', 0.6652078628540039),\n",
       "  ('тэфи', 0.6174721121788025)],\n",
       " 'случай': [('зарегистрировать', 0.8460727334022522),\n",
       "  ('выявить', 0.9192491173744202),\n",
       "  ('заражение', 0.899854838848114),\n",
       "  ('плато', 0.8662550449371338),\n",
       "  ('зафиксировать', 0.856762170791626)],\n",
       " 'день': [('следующий', 0.699924111366272),\n",
       "  ('неделя', 0.8640822768211365),\n",
       "  ('летие', 0.7483744621276855),\n",
       "  ('час', 0.7470389604568481),\n",
       "  ('рождение', 0.7150387167930603)],\n",
       " 'глава': [('гендиректор', 0.7708004117012024),\n",
       "  ('представитель', 0.8161321878433228),\n",
       "  ('замглавы', 0.7909931540489197),\n",
       "  ('председатель', 0.7863927483558655),\n",
       "  ('брифинг', 0.7718202471733093)],\n",
       " 'число': [('сложность', 0.8507325053215027),\n",
       "  ('превысить', 0.9127852320671082),\n",
       "  ('зарегистрировать', 0.910478413105011),\n",
       "  ('возрасти', 0.8821862936019897),\n",
       "  ('достигнуть', 0.8771251440048218)],\n",
       " 'процент': [('четверть', 0.9024824500083923),\n",
       "  ('подскочить', 0.9162522554397583),\n",
       "  ('треть', 0.9110148549079895),\n",
       "  ('доля', 0.9084794521331787),\n",
       "  ('подешеветь', 0.9038184285163879)],\n",
       " 'рассказать': [('поведать', 0.7006034851074219),\n",
       "  ('раскрыть', 0.7930493950843811),\n",
       "  ('объяснить', 0.7891868948936462),\n",
       "  ('назвать', 0.7804998755455017),\n",
       "  ('узнать', 0.7762573957443237)],\n",
       " 'компания': [('сбербанк', 0.7854551076889038),\n",
       "  ('корпорация', 0.8423064947128296),\n",
       "  ('фирма', 0.8294759392738342),\n",
       "  ('минтруд', 0.7871447205543518),\n",
       "  ('газотранспортный', 0.7867838144302368)],\n",
       " 'данные': [('свидетельствовать', 0.7444632053375244),\n",
       "  ('информация', 0.833918035030365),\n",
       "  ('ссылка', 0.7806100845336914),\n",
       "  ('сервер', 0.7463212013244629),\n",
       "  ('мониторинговый', 0.7453694343566895)],\n",
       " 'отметить': [('занизить', 0.7254685759544373),\n",
       "  ('слово', 0.7451205849647522),\n",
       "  ('добавить', 0.7439618706703186),\n",
       "  ('сказать', 0.731684684753418),\n",
       "  ('сдержать', 0.7305617332458496)],\n",
       " 'дело': [('следствие', 0.8506461977958679),\n",
       "  ('уголовный', 0.9189231395721436),\n",
       "  ('возбудить', 0.8876914978027344),\n",
       "  ('фигурант', 0.8675956130027771),\n",
       "  ('возбуждение', 0.8601030111312866)],\n",
       " 'работа': [('сбой', 0.6271541118621826),\n",
       "  ('работать', 0.7054876685142517),\n",
       "  ('приём', 0.6471371054649353),\n",
       "  ('проверка', 0.6438667178153992),\n",
       "  ('проводить', 0.6278240084648132)],\n",
       " 'рубль': [('взыскать', 0.8147976398468018),\n",
       "  ('выплатить', 0.8741518259048462),\n",
       "  ('тенг', 0.8347397446632385),\n",
       "  ('сумма', 0.8250131011009216),\n",
       "  ('гривна', 0.8180180788040161)],\n",
       " 'сообщить': [('собеседник', 0.7481642365455627),\n",
       "  ('подтвердить', 0.878016471862793),\n",
       "  ('сообщать', 0.8514826893806458),\n",
       "  ('опровергнуть', 0.8395140171051025),\n",
       "  ('передавать', 0.7799369692802429)],\n",
       " 'миллион': [('триллион', 0.6947603225708008),\n",
       "  ('полмиллиона', 0.936173141002655),\n",
       "  ('тысяча', 0.9100297093391418),\n",
       "  ('миллиард', 0.871644139289856),\n",
       "  ('полмиллиарда', 0.8516715168952942)],\n",
       " 'последний': [('новогодний', 0.7194642424583435),\n",
       "  ('подряд', 0.7579708099365234),\n",
       "  ('несчастливый', 0.752916157245636),\n",
       "  ('прошлый', 0.743722677230835),\n",
       "  ('летие', 0.7271651029586792)],\n",
       " 'мир': [('двадцатка', 0.7284941673278809),\n",
       "  ('джонс', 0.7826892137527466),\n",
       "  ('европа', 0.7420027852058411),\n",
       "  ('америка', 0.7409858107566833),\n",
       "  ('зачёт', 0.7334707975387573)],\n",
       " 'сообщаться': [('округ', 0.7620680332183838),\n",
       "  ('известно', 0.8480839729309082),\n",
       "  ('район', 0.7822809219360352),\n",
       "  ('отмечаться', 0.7797326445579529),\n",
       "  ('задержать', 0.7754278182983398)],\n",
       " 'сказать': [('адоньев', 0.8162605166435242),\n",
       "  ('добавить', 0.9218482971191406),\n",
       "  ('говорить', 0.9149503111839294),\n",
       "  ('подчеркнуть', 0.8664752244949341),\n",
       "  ('вопрос', 0.8175383806228638)],\n",
       " 'май': [('август', 0.8671903610229492),\n",
       "  ('июнь', 0.9694315195083618),\n",
       "  ('апрель', 0.9685851335525513),\n",
       "  ('март', 0.9620689153671265),\n",
       "  ('июль', 0.9292689561843872)],\n",
       " 'находиться': [('трое', 0.8663969039916992),\n",
       "  ('пострадать', 0.8924175500869751),\n",
       "  ('госпитализировать', 0.8817471265792847),\n",
       "  ('дтп', 0.8793368935585022),\n",
       "  ('ранение', 0.872904896736145)],\n",
       " 'апрель': [('январь', 0.8529512882232666),\n",
       "  ('май', 0.9685850739479065),\n",
       "  ('март', 0.9424989819526672),\n",
       "  ('июнь', 0.9295704960823059),\n",
       "  ('июль', 0.8752090930938721)],\n",
       " 'город': [('йоркец', 0.6782772541046143),\n",
       "  ('сезам', 0.7098349332809448),\n",
       "  ('песчаный', 0.6837999820709229),\n",
       "  ('ёлка', 0.6792986392974854),\n",
       "  ('столица', 0.6788372993469238)],\n",
       " 'дом': [('жилой', 0.724027693271637),\n",
       "  ('порошок', 0.8332188129425049),\n",
       "  ('жилец', 0.76102614402771),\n",
       "  ('медведь', 0.741595447063446),\n",
       "  ('медвежонок', 0.7346201539039612)],\n",
       " 'место': [('турнирный', 0.6585496068000793),\n",
       "  ('парковочный', 0.73095703125),\n",
       "  ('занять', 0.7207311987876892),\n",
       "  ('второе', 0.6913408637046814),\n",
       "  ('жительство', 0.6590601801872253)],\n",
       " 'должный': [('дальнейший', 0.7842650413513184),\n",
       "  ('смочь', 0.8263512253761292),\n",
       "  ('принимать', 0.8112894296646118),\n",
       "  ('наравне', 0.788628339767456),\n",
       "  ('готовый', 0.7853678464889526)],\n",
       " 'получить': [('условный', 0.6259942650794983),\n",
       "  ('вручить', 0.6865941882133484),\n",
       "  ('наградить', 0.6537405848503113),\n",
       "  ('присудить', 0.6402768492698669),\n",
       "  ('учредить', 0.6382551789283752)],\n",
       " 'март': [('декабрь', 0.9173613786697388),\n",
       "  ('май', 0.9620689153671265),\n",
       "  ('июнь', 0.9567506313323975),\n",
       "  ('июль', 0.947701632976532),\n",
       "  ('апрель', 0.942499041557312)],\n",
       " 'власть': [('запрет', 0.765195906162262),\n",
       "  ('гражданин', 0.789153516292572),\n",
       "  ('санкция', 0.7761743068695068),\n",
       "  ('введение', 0.7690606117248535),\n",
       "  ('консульство', 0.7664722204208374)],\n",
       " 'несколько': [('девять', 0.770388126373291),\n",
       "  ('десяток', 0.8848047852516174),\n",
       "  ('час', 0.8607833981513977),\n",
       "  ('просидеть', 0.812868058681488),\n",
       "  ('море', 0.7925891876220703)],\n",
       " 'американский': [('израильский', 0.6897750496864319),\n",
       "  ('сша', 0.7621378302574158),\n",
       "  ('британский', 0.7542985081672668),\n",
       "  ('немецкий', 0.7435628175735474),\n",
       "  ('китайский', 0.7263963222503662)],\n",
       " 'результат': [('столкновение', 0.7363646626472473),\n",
       "  ('пневмония', 0.7665375471115112),\n",
       "  ('отрицательный', 0.760021448135376),\n",
       "  ('тест', 0.7504772543907166),\n",
       "  ('положительный', 0.7499302625656128)],\n",
       " 'ситуация': [('демографический', 0.8479425311088562),\n",
       "  ('чрезвычайный', 0.8883128762245178),\n",
       "  ('эпидемиологический', 0.8765674233436584),\n",
       "  ('возможный', 0.8510250449180603),\n",
       "  ('стабилизация', 0.8509910106658936)],\n",
       " 'украина': [('киев', 0.8620107173919678),\n",
       "  ('донбасс', 0.8861908316612244),\n",
       "  ('ливия', 0.8800327777862549),\n",
       "  ('присоединение', 0.8665208220481873),\n",
       "  ('эрдоган', 0.8636971712112427)],\n",
       " 'ребёнок': [('беременность', 0.7484846115112305),\n",
       "  ('родитель', 0.8683817386627197),\n",
       "  ('девочка', 0.7743908166885376),\n",
       "  ('мальчик', 0.7543460726737976),\n",
       "  ('мать', 0.7508301138877869)]}"
      ]
     },
     "execution_count": 778,
     "metadata": {},
     "output_type": "execute_result"
    }
   ],
   "source": [
    "dict_syn"
   ]
  },
  {
   "cell_type": "markdown",
   "metadata": {},
   "source": [
    "## Построение графов"
   ]
  },
  {
   "cell_type": "code",
   "execution_count": 747,
   "metadata": {},
   "outputs": [],
   "source": [
    "import networkx as nx\n",
    "import matplotlib.pyplot as plt"
   ]
  },
  {
   "cell_type": "code",
   "execution_count": 748,
   "metadata": {},
   "outputs": [],
   "source": [
    "def _graf(word):\n",
    "    try:\n",
    "        sims = model.wv.most_similar(positive=[word], topn=10)\n",
    "    except:\n",
    "        print('No synonym for this word')\n",
    "        return None\n",
    "    G = nx.Graph()\n",
    "    edges = [(word, sim[0], round(sim[1], 3)) for sim in sims]\n",
    "    G.add_weighted_edges_from(edges)\n",
    "    labels = nx.get_edge_attributes(G, \"weight\")    \n",
    "    ego_network = nx.ego_graph(G, word)\n",
    "    pos = nx.spring_layout(ego_network)\n",
    "    nx.draw(ego_network, pos, with_labels=True)\n",
    "    nx.draw_networkx_edge_labels(ego_network, pos, edge_labels=labels)\n",
    "    options = {\"node_size\": 300, \"node_color\": \"r\"}\n",
    "    nx.draw_networkx_nodes(ego_network, pos, nodelist=[word], **options)\n",
    "    plt.show()"
   ]
  },
  {
   "cell_type": "code",
   "execution_count": 749,
   "metadata": {},
   "outputs": [
    {
     "data": {
      "image/png": "[encoded data removed]",
      "text/plain": [
       "<Figure size 432x288 with 1 Axes>"
      ]
     },
     "metadata": {},
     "output_type": "display_data"
    }
   ],
   "source": [
    "_graf('кошка')"
   ]
  },
  {
   "cell_type": "code",
   "execution_count": 750,
   "metadata": {},
   "outputs": [
    {
     "data": {
      "image/png": "[encoded data removed]",
      "text/plain": [
       "<Figure size 432x288 with 1 Axes>"
      ]
     },
     "metadata": {},
     "output_type": "display_data"
    }
   ],
   "source": [
    "_graf('президент')"
   ]
  },
  {
   "cell_type": "code",
   "execution_count": 555,
   "metadata": {},
   "outputs": [
    {
     "name": "stdout",
     "output_type": "stream",
     "text": [
      "No synonym for this word\n"
     ]
    }
   ],
   "source": [
    "_graf('шпроты')"
   ]
  }
 ],
 "metadata": {
  "kernelspec": {
   "display_name": "Python 3",
   "language": "python",
   "name": "python3"
  },
  "language_info": {
   "codemirror_mode": {
    "name": "ipython",
    "version": 3
   },
   "file_extension": ".py",
   "mimetype": "text/x-python",
   "name": "python",
   "nbconvert_exporter": "python",
   "pygments_lexer": "ipython3",
   "version": "3.8.5"
  }
 },
 "nbformat": 4,
 "nbformat_minor": 4
}
